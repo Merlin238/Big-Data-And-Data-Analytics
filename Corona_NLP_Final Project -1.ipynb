{
 "cells": [
  {
   "cell_type": "markdown",
   "metadata": {
    "id": "yJZJuUuqRcM0"
   },
   "source": [
    "# Big Data and Data Analytics for Managers "
   ]
  },
  {
   "cell_type": "markdown",
   "metadata": {
    "id": "FPUzJXGZRcM2"
   },
   "source": [
    "## Merlin John - 015027"
   ]
  },
  {
   "cell_type": "markdown",
   "metadata": {
    "id": "J-tjUx1cRcM3"
   },
   "source": [
    "AIM- Perform Text Classification on Coronavirus tweets using Py spark\n"
   ]
  },
  {
   "cell_type": "markdown",
   "metadata": {
    "id": "r42HBYJfRcM4"
   },
   "source": [
    "Columns:\n",
    "\n",
    "1) Location\n",
    "2) Tweet At\n",
    "3) Original Tweet\n",
    "4) Label"
   ]
  },
  {
   "cell_type": "code",
   "execution_count": null,
   "metadata": {
    "colab": {
     "base_uri": "https://localhost:8080/"
    },
    "id": "0h2L0ljjRivj",
    "outputId": "48f90403-1761-494b-cf3f-d3fd7cc34927"
   },
   "outputs": [],
   "source": [
    "#!pip install pyspark"
   ]
  },
  {
   "cell_type": "code",
   "execution_count": null,
   "metadata": {
    "colab": {
     "base_uri": "https://localhost:8080/"
    },
    "id": "5bMyjckJH6ES",
    "outputId": "44c8bbfe-bc67-4c35-c555-6546fb5cd6f7"
   },
   "outputs": [],
   "source": [
    "#import os       #importing os to set environment variable\n",
    "#def install_java():\n",
    "#  !apt-get install -y openjdk-8-jdk-headless -qq > /dev/null      #install openjdk\n",
    "#  os.environ[\"JAVA_HOME\"] = \"/usr/lib/jvm/java-8-openjdk-amd64\"     #set environment variable\n",
    "#  !java -version       #check java version\n",
    "#install_java()"
   ]
  },
  {
   "cell_type": "code",
   "execution_count": 1,
   "metadata": {
    "id": "Dn_P6mFxRcM4"
   },
   "outputs": [],
   "source": [
    "#from pyspark.sql import SparkSession\n",
    "from pyspark.sql.functions import length,  regexp_replace\n",
    "from pyspark.ml.feature import Tokenizer, StopWordsRemover, CountVectorizer, IDF, StringIndexer,HashingTF\n",
    "from pyspark.ml.evaluation import MulticlassClassificationEvaluator\n",
    "from pyspark.ml.feature import VectorAssembler\n",
    "from pyspark.ml.classification import NaiveBayes, RandomForestClassifier, DecisionTreeClassifier\n",
    "from pyspark.ml import Pipeline"
   ]
  },
  {
   "cell_type": "code",
   "execution_count": null,
   "metadata": {
    "id": "Hrz_c6Kt2kBq"
   },
   "outputs": [],
   "source": [
    "#spark = SparkSession.builder \\\n",
    "#        .config(\"spark.driver.memory\",\"6G\")\\\n",
    "#        .config(\"spark.driver.maxResultSize\", \"4G\") \\\n",
    "#        .getOrCreate()"
   ]
  },
  {
   "cell_type": "code",
   "execution_count": null,
   "metadata": {
    "colab": {
     "base_uri": "https://localhost:8080/"
    },
    "id": "_Fk1gu7Qn3qZ",
    "outputId": "84bb34ed-b84e-4412-dacf-a1566cfeab0b"
   },
   "outputs": [],
   "source": [
    "#from google.colab import drive\n",
    "#drive.mount('/gdrive')"
   ]
  },
  {
   "cell_type": "code",
   "execution_count": null,
   "metadata": {
    "id": "o1Map62yoVQ7"
   },
   "outputs": [],
   "source": [
    "#path = \"/gdrive/MyDrive/Colab_data_files/corona_nlp/Corona_NLP_test.csv\"\n",
    "#data=spark.read.csv(path, header = True, inferSchema=True)"
   ]
  },
  {
   "cell_type": "code",
   "execution_count": null,
   "metadata": {},
   "outputs": [],
   "source": [
    "! hdfs dfs -mkdir -p /user/ashok/data_files/corona\n",
    "! hdfs dfs -put /home/ashok/Documents/corona_nlp_test.csv  /user/ashok/data_files/corona\n",
    "! hdfs dfs -ls /user/ashok/data_files/corona"
   ]
  },
  {
   "cell_type": "code",
   "execution_count": 2,
   "metadata": {
    "id": "bOmM8KuPD63s"
   },
   "outputs": [],
   "source": [
    "from IPython.core.interactiveshell import InteractiveShell\n",
    "InteractiveShell.ast_node_interactivity = \"all\"\n"
   ]
  },
  {
   "cell_type": "code",
   "execution_count": 3,
   "metadata": {},
   "outputs": [],
   "source": [
    "path = \"/user/ashok/data_files/corona/corona_nlp_test.csv\"\n",
    "data=spark.read.csv(path, header = True, inferSchema=True)"
   ]
  },
  {
   "cell_type": "code",
   "execution_count": 4,
   "metadata": {
    "colab": {
     "base_uri": "https://localhost:8080/"
    },
    "id": "-O2qutCPRcM5",
    "outputId": "3f4cc5be-1bdf-463c-c7e8-0ac2576f0f88"
   },
   "outputs": [
    {
     "name": "stdout",
     "output_type": "stream",
     "text": [
      "+--------------------+--------------------+--------------------+----------+--------------------+------------------+\n",
      "|            UserName|          ScreenName|            Location|   TweetAt|       OriginalTweet|         Sentiment|\n",
      "+--------------------+--------------------+--------------------+----------+--------------------+------------------+\n",
      "|                   1|               44953|                 NYC|02-03-2020|TRENDING: New Yor...|Extremely Negative|\n",
      "|                   2|               44954|         Seattle, WA|02-03-2020|When I couldn't f...|          Positive|\n",
      "|                   3|               44955|                null|02-03-2020|Find out how you ...|Extremely Positive|\n",
      "|                   4|               44956|         Chicagoland|02-03-2020|#Panic buying hit...|              null|\n",
      "|https://t.co/IASi...|                null|                null|      null|                null|              null|\n",
      "|#QAnon #QAnon2018...|                null|                null|      null|                null|              null|\n",
      "|#Election2020 #CD...|            Negative|                null|      null|                null|              null|\n",
      "|                   5|               44957| Melbourne, Victoria|03-03-2020|#toiletpaper #dun...|           Neutral|\n",
      "|                   6|               44958|         Los Angeles|03-03-2020|Do you remember t...|           Neutral|\n",
      "|                   7|               44959|                null|03-03-2020|Voting in the age...|          Positive|\n",
      "|                   8|               44960| Geneva, Switzerland|03-03-2020|\"@DrTedros \"\"We c...|              null|\n",
      "|Prices of surgica...| N95 respirators ...|             Neutral|      null|                null|              null|\n",
      "|                   9|               44961|                null|04-03-2020|HI TWITTER! I am ...|Extremely Negative|\n",
      "|                  10|               44962|     Dublin, Ireland|04-03-2020|Anyone been in a ...|Extremely Positive|\n",
      "|                  11|               44963|Boksburg, South A...|04-03-2020|Best quality couc...|              null|\n",
      "|We are in Boksbur...|                null|                null|      null|                null|              null|\n",
      "|For more info Wha...|                null|                null|      null|                null|              null|\n",
      "|        084 764 8086|                null|                null|      null|                null|              null|\n",
      "|#SuperTuesdsy #Po...|                null|                null|      null|                null|              null|\n",
      "|#Covid_19 #SayEnt...|                null|                null|      null|                null|              null|\n",
      "+--------------------+--------------------+--------------------+----------+--------------------+------------------+\n",
      "only showing top 20 rows\n",
      "\n",
      "root\n",
      " |-- UserName: string (nullable = true)\n",
      " |-- ScreenName: string (nullable = true)\n",
      " |-- Location: string (nullable = true)\n",
      " |-- TweetAt: string (nullable = true)\n",
      " |-- OriginalTweet: string (nullable = true)\n",
      " |-- Sentiment: string (nullable = true)\n",
      "\n"
     ]
    }
   ],
   "source": [
    "data.show()\n",
    "data.printSchema()"
   ]
  },
  {
   "cell_type": "code",
   "execution_count": null,
   "metadata": {
    "colab": {
     "base_uri": "https://localhost:8080/"
    },
    "id": "nPhwjyhYRcM6",
    "outputId": "bdeab974-3084-44bf-c0ec-a6b79f779789"
   },
   "outputs": [],
   "source": [
    "data.describe().show()"
   ]
  },
  {
   "cell_type": "markdown",
   "metadata": {
    "id": "Awp8esGGRcM6"
   },
   "source": [
    "# Data Prepration"
   ]
  },
  {
   "cell_type": "code",
   "execution_count": null,
   "metadata": {
    "colab": {
     "base_uri": "https://localhost:8080/"
    },
    "id": "q-U_3DG0RcM6",
    "outputId": "757697b4-a6e4-420c-d6fa-52317785404e",
    "scrolled": true
   },
   "outputs": [],
   "source": [
    "result_df = data.groupBy(\"Location\").count().sort(\"Location\", ascending=False)\n",
    "result_df.show(10)"
   ]
  },
  {
   "cell_type": "code",
   "execution_count": 5,
   "metadata": {
    "colab": {
     "base_uri": "https://localhost:8080/"
    },
    "id": "MjcCCK3oRcM7",
    "outputId": "28d34a9a-73c3-485f-97f0-d39deac2543d"
   },
   "outputs": [
    {
     "name": "stdout",
     "output_type": "stream",
     "text": [
      "+--------------------+----------+-------------------+----------+--------------------+------------------+------+\n",
      "|            UserName|ScreenName|           Location|   TweetAt|       OriginalTweet|         Sentiment|length|\n",
      "+--------------------+----------+-------------------+----------+--------------------+------------------+------+\n",
      "|                   1|     44953|                NYC|02-03-2020|TRENDING: New Yor...|Extremely Negative|   228|\n",
      "|                   2|     44954|        Seattle, WA|02-03-2020|When I couldn't f...|          Positive|   193|\n",
      "|                   3|     44955|               null|02-03-2020|Find out how you ...|Extremely Positive|    73|\n",
      "|                   4|     44956|        Chicagoland|02-03-2020|#Panic buying hit...|              null|   209|\n",
      "|https://t.co/IASi...|      null|               null|      null|                null|              null|  null|\n",
      "|#QAnon #QAnon2018...|      null|               null|      null|                null|              null|  null|\n",
      "|#Election2020 #CD...|  Negative|               null|      null|                null|              null|  null|\n",
      "|                   5|     44957|Melbourne, Victoria|03-03-2020|#toiletpaper #dun...|           Neutral|   252|\n",
      "|                   6|     44958|        Los Angeles|03-03-2020|Do you remember t...|           Neutral|   205|\n",
      "|                   7|     44959|               null|03-03-2020|Voting in the age...|          Positive|    90|\n",
      "+--------------------+----------+-------------------+----------+--------------------+------------------+------+\n",
      "only showing top 10 rows\n",
      "\n"
     ]
    }
   ],
   "source": [
    "data=data.withColumn('length', length(data['OriginalTweet']))\n",
    "data.show(10)"
   ]
  },
  {
   "cell_type": "code",
   "execution_count": 6,
   "metadata": {
    "colab": {
     "base_uri": "https://localhost:8080/"
    },
    "id": "Y14lk3m2AV43",
    "outputId": "b60d440c-cb0d-44a0-ec66-85bf650df41a"
   },
   "outputs": [
    {
     "name": "stdout",
     "output_type": "stream",
     "text": [
      "+--------------------+---------+------+\n",
      "|       OriginalTweet|Sentiment|length|\n",
      "+--------------------+---------+------+\n",
      "|#CoronaVirus #COV...| Negative|   284|\n",
      "|When your usual g...| Negative|   201|\n",
      "|While you are sto...| Negative|   250|\n",
      "|Two important pho...| Negative|   271|\n",
      "|Fellow Uni instru...| Negative|   274|\n",
      "|1/25 Part 1 - Why...| Negative|   300|\n",
      "|For those self in...| Negative|   166|\n",
      "|Report any and al...| Negative|   214|\n",
      "|Met with members ...| Negative|   303|\n",
      "|Every shop, chemi...| Negative|   270|\n",
      "+--------------------+---------+------+\n",
      "only showing top 10 rows\n",
      "\n"
     ]
    }
   ],
   "source": [
    "data=data.drop(\"UserName\",\"ScreenName\",\"Location\",\"TweetAt\")\n",
    "data.filter(data[\"Sentiment\"]==\"Negative\").show(10)"
   ]
  },
  {
   "cell_type": "code",
   "execution_count": 7,
   "metadata": {
    "colab": {
     "base_uri": "https://localhost:8080/"
    },
    "id": "DIu-i0t3RcM8",
    "outputId": "52b8dc22-ba36-4a24-fb29-bee584c7a2fc"
   },
   "outputs": [
    {
     "name": "stdout",
     "output_type": "stream",
     "text": [
      "+--------------------+--------------------+------+\n",
      "|       OriginalTweet|           Sentiment|length|\n",
      "+--------------------+--------------------+------+\n",
      "|TRENDING: New Yor...|  Extremely Negative|   228|\n",
      "|When I couldn't f...|            Positive|   193|\n",
      "|Find out how you ...|  Extremely Positive|    73|\n",
      "|#toiletpaper #dun...|             Neutral|   252|\n",
      "|Do you remember t...|             Neutral|   205|\n",
      "|Voting in the age...|            Positive|    90|\n",
      "|HI TWITTER! I am ...|  Extremely Negative|   280|\n",
      "|Anyone been in a ...|  Extremely Positive|   238|\n",
      "|While we were bus...|            Positive|   197|\n",
      "|When youre stock...|             Neutral|   187|\n",
      "|#CoronaVirus #COV...|            Negative|   284|\n",
      "|\"For those of you...|  Extremely Positive|   279|\n",
      "|Control over stoc...|  Extremely Positive|   237|\n",
      "|When your usual g...|            Negative|   201|\n",
      "|While you are sto...|            Negative|   250|\n",
      "|\"#Coronavirus is ...|\"\" says NELP Gove...|    72|\n",
      "|Two important pho...|            Negative|   271|\n",
      "|IMHO Russia's rug...|  Extremely Negative|   280|\n",
      "|So not due to #Br...|             Neutral|   148|\n",
      "|Fellow Uni instru...|            Negative|   274|\n",
      "+--------------------+--------------------+------+\n",
      "only showing top 20 rows\n",
      "\n"
     ]
    }
   ],
   "source": [
    "data = data.na.drop()\n",
    "data.show()"
   ]
  },
  {
   "cell_type": "code",
   "execution_count": 8,
   "metadata": {},
   "outputs": [
    {
     "name": "stdout",
     "output_type": "stream",
     "text": [
      "+--------------------+------------------+------+\n",
      "|       OriginalTweet|         Sentiment|length|\n",
      "+--------------------+------------------+------+\n",
      "|TRENDING: New Yor...|Extremely Negative|   228|\n",
      "|When I couldn't f...|          Positive|   193|\n",
      "|Find out how you ...|Extremely Positive|    73|\n",
      "|#toiletpaper #dun...|           Neutral|   252|\n",
      "|Do you remember t...|           Neutral|   205|\n",
      "|Voting in the age...|          Positive|    90|\n",
      "|HI TWITTER! I am ...|Extremely Negative|   280|\n",
      "|Anyone been in a ...|Extremely Positive|   238|\n",
      "|While we were bus...|          Positive|   197|\n",
      "|When youre stock...|           Neutral|   187|\n",
      "|#CoronaVirus #COV...|          Negative|   284|\n",
      "|\"For those of you...|Extremely Positive|   279|\n",
      "|Control over stoc...|Extremely Positive|   237|\n",
      "|When your usual g...|          Negative|   201|\n",
      "|While you are sto...|          Negative|   250|\n",
      "|Two important pho...|          Negative|   271|\n",
      "|IMHO Russia's rug...|Extremely Negative|   280|\n",
      "|So not due to #Br...|           Neutral|   148|\n",
      "|Fellow Uni instru...|          Negative|   274|\n",
      "|1/25 Part 1 - Why...|          Negative|   300|\n",
      "+--------------------+------------------+------+\n",
      "only showing top 20 rows\n",
      "\n"
     ]
    }
   ],
   "source": [
    "data = data.filter(\"Sentiment == 'Neutral' OR Sentiment == 'Negative' OR Sentiment == 'Positive' OR Sentiment == 'Extremely Negative' OR Sentiment == 'Extremely Positive'\")\n",
    "data.show()"
   ]
  },
  {
   "cell_type": "code",
   "execution_count": 9,
   "metadata": {},
   "outputs": [],
   "source": [
    "data = data.withColumn('Sentiment', regexp_replace('Sentiment', 'Extremely Negative', 'Negative'))\n",
    "data = data.withColumn('Sentiment', regexp_replace('Sentiment', 'Extremely Positive', 'Positive'))"
   ]
  },
  {
   "cell_type": "code",
   "execution_count": 10,
   "metadata": {},
   "outputs": [
    {
     "name": "stdout",
     "output_type": "stream",
     "text": [
      "+--------------------+---------+------+\n",
      "|       OriginalTweet|Sentiment|length|\n",
      "+--------------------+---------+------+\n",
      "|TRENDING: New Yor...| Negative|   228|\n",
      "|When I couldn't f...| Positive|   193|\n",
      "|Find out how you ...| Positive|    73|\n",
      "|#toiletpaper #dun...|  Neutral|   252|\n",
      "|Do you remember t...|  Neutral|   205|\n",
      "|Voting in the age...| Positive|    90|\n",
      "|HI TWITTER! I am ...| Negative|   280|\n",
      "|Anyone been in a ...| Positive|   238|\n",
      "|While we were bus...| Positive|   197|\n",
      "|When youre stock...|  Neutral|   187|\n",
      "|#CoronaVirus #COV...| Negative|   284|\n",
      "|\"For those of you...| Positive|   279|\n",
      "|Control over stoc...| Positive|   237|\n",
      "|When your usual g...| Negative|   201|\n",
      "|While you are sto...| Negative|   250|\n",
      "|Two important pho...| Negative|   271|\n",
      "|IMHO Russia's rug...| Negative|   280|\n",
      "|So not due to #Br...|  Neutral|   148|\n",
      "|Fellow Uni instru...| Negative|   274|\n",
      "|1/25 Part 1 - Why...| Negative|   300|\n",
      "+--------------------+---------+------+\n",
      "only showing top 20 rows\n",
      "\n"
     ]
    }
   ],
   "source": [
    "data.show()"
   ]
  },
  {
   "cell_type": "markdown",
   "metadata": {
    "id": "THsGLjFtRcM8"
   },
   "source": [
    "# Features Transformation"
   ]
  },
  {
   "cell_type": "code",
   "execution_count": 11,
   "metadata": {
    "id": "D0OxTTsCqQwy"
   },
   "outputs": [],
   "source": [
    "tokenizer=Tokenizer(inputCol=\"OriginalTweet\", outputCol=\"token_text\")\n",
    "stopremove=StopWordsRemover(inputCol=\"token_text\", outputCol=\"stop_tokens\")\n",
    "count_vec=CountVectorizer(inputCol=\"stop_tokens\", outputCol=\"c_vec\")\n",
    "#hashingTF = HashingTF(inputCol=\"stop_tokens\", outputCol=\"c_vec\", numFeatures=5000)\n",
    "idf=IDF(inputCol=\"c_vec\", outputCol=\"tf_idf\")\n",
    "# we also need to convert our labels in numbers\n",
    "ham_samp_to_num = StringIndexer(inputCol=\"Sentiment\", outputCol='label')\n",
    "clean_up = VectorAssembler(inputCols=['tf_idf','length'], outputCol='features')"
   ]
  },
  {
   "cell_type": "markdown",
   "metadata": {
    "id": "3yiw5A4oRcM9"
   },
   "source": [
    "# Model"
   ]
  },
  {
   "cell_type": "code",
   "execution_count": 12,
   "metadata": {
    "id": "m9nIxjNARcM9"
   },
   "outputs": [],
   "source": [
    "dtc=DecisionTreeClassifier(maxDepth=15)\n",
    "rf=RandomForestClassifier(numTrees=200)\n",
    "nb=NaiveBayes()"
   ]
  },
  {
   "cell_type": "markdown",
   "metadata": {
    "id": "ZJTW5K8rRcM9"
   },
   "source": [
    "# Pipeline"
   ]
  },
  {
   "cell_type": "code",
   "execution_count": 13,
   "metadata": {
    "id": "Kx0_tdvXRcM-"
   },
   "outputs": [],
   "source": [
    "data_prep_pipeline= Pipeline(stages=[ham_samp_to_num, tokenizer, stopremove,count_vec, idf,clean_up, nb])"
   ]
  },
  {
   "cell_type": "code",
   "execution_count": 14,
   "metadata": {},
   "outputs": [
    {
     "name": "stdout",
     "output_type": "stream",
     "text": [
      "+--------------------+---------+------+\n",
      "|       OriginalTweet|Sentiment|length|\n",
      "+--------------------+---------+------+\n",
      "|TRENDING: New Yor...| Negative|   228|\n",
      "|When I couldn't f...| Positive|   193|\n",
      "|Find out how you ...| Positive|    73|\n",
      "|#toiletpaper #dun...|  Neutral|   252|\n",
      "|Do you remember t...|  Neutral|   205|\n",
      "|Voting in the age...| Positive|    90|\n",
      "|HI TWITTER! I am ...| Negative|   280|\n",
      "|Anyone been in a ...| Positive|   238|\n",
      "|While we were bus...| Positive|   197|\n",
      "|When youre stock...|  Neutral|   187|\n",
      "|#CoronaVirus #COV...| Negative|   284|\n",
      "|\"For those of you...| Positive|   279|\n",
      "|Control over stoc...| Positive|   237|\n",
      "|When your usual g...| Negative|   201|\n",
      "|While you are sto...| Negative|   250|\n",
      "|Two important pho...| Negative|   271|\n",
      "|IMHO Russia's rug...| Negative|   280|\n",
      "|So not due to #Br...|  Neutral|   148|\n",
      "|Fellow Uni instru...| Negative|   274|\n",
      "|1/25 Part 1 - Why...| Negative|   300|\n",
      "+--------------------+---------+------+\n",
      "only showing top 20 rows\n",
      "\n"
     ]
    }
   ],
   "source": [
    "data.show()"
   ]
  },
  {
   "cell_type": "code",
   "execution_count": 15,
   "metadata": {
    "id": "BdNSvfVYCkVD"
   },
   "outputs": [],
   "source": [
    "(training, testing)= data.randomSplit([0.8,0.2])"
   ]
  },
  {
   "cell_type": "code",
   "execution_count": 16,
   "metadata": {},
   "outputs": [
    {
     "name": "stdout",
     "output_type": "stream",
     "text": [
      "+--------------------+---------+------+\n",
      "|       OriginalTweet|Sentiment|length|\n",
      "+--------------------+---------+------+\n",
      "|  We ve got sever...| Negative|   235|\n",
      "| Amazon Needs to ...| Negative|   203|\n",
      "| Food poverty doe...| Negative|   225|\n",
      "| This is the best...| Positive|   181|\n",
      "| and major tech c...| Positive|    49|\n",
      "| and vegetables&g...| Positive|    30|\n",
      "| as bad as that is.\"| Negative|    20|\n",
      "| we shouldn't pan...| Negative|    21|\n",
      "|!!!!!!! French Pr...| Negative|   133|\n",
      "|\"\"\"Current estima...|  Neutral|   138|\n",
      "|\"#Airbnb some hos...| Negative|   287|\n",
      "|\"#BREAKING: Ontar...| Negative|   250|\n",
      "|\"#Covid_19 #Hamst...| Positive|   207|\n",
      "|\"?? Starbucks may...| Positive|   127|\n",
      "|\"@AskTarget \"\"cor...| Positive|   244|\n",
      "|\"@Ryanair is at i...| Positive|   259|\n",
      "|\"@colemank83 offe...| Positive|   221|\n",
      "|\"@iamshafaatali I...| Negative|   259|\n",
      "|\"@phineashead @Bo...| Negative|   259|\n",
      "|\"@yogagirlmab Ano...| Negative|   261|\n",
      "+--------------------+---------+------+\n",
      "only showing top 20 rows\n",
      "\n"
     ]
    }
   ],
   "source": [
    "training.show()"
   ]
  },
  {
   "cell_type": "code",
   "execution_count": 17,
   "metadata": {},
   "outputs": [
    {
     "name": "stdout",
     "output_type": "stream",
     "text": [
      "+--------------------+---------+------+\n",
      "|       OriginalTweet|Sentiment|length|\n",
      "+--------------------+---------+------+\n",
      "| There is enough ...|  Neutral|    97|\n",
      "|\"2 Weeks #Lockdow...|  Neutral|   307|\n",
      "|\"@quietplacemovie...| Positive|   245|\n",
      "|\"A \"\"consumer rem...| Positive|   259|\n",
      "|\"Be like my girlf...| Positive|   277|\n",
      "|\"My grocery store...| Negative|   279|\n",
      "|\"Yesterday in my ...| Negative|   267|\n",
      "|#BBCqt @MattHanco...|  Neutral|    70|\n",
      "|#COVID2019 whiske...|  Neutral|    72|\n",
      "|#Coronavirus is h...| Positive|   162|\n",
      "|#Coronavirus my n...| Negative|   263|\n",
      "|#Covid_19 #Corona...| Negative|   277|\n",
      "|#Covid_19 #corona...| Positive|   292|\n",
      "|#Covid_19 is pand...| Positive|   210|\n",
      "|#Covid_19 or not,...| Positive|   132|\n",
      "|#ITV #Vera openin...|  Neutral|   101|\n",
      "|#News cycles rela...|  Neutral|    99|\n",
      "|#Oil vs #coronavi...| Negative|   267|\n",
      "|#Quarantine #coro...| Positive|   272|\n",
      "|#Unorthodox measu...| Positive|   208|\n",
      "+--------------------+---------+------+\n",
      "only showing top 20 rows\n",
      "\n"
     ]
    }
   ],
   "source": [
    "testing.show()"
   ]
  },
  {
   "cell_type": "code",
   "execution_count": 18,
   "metadata": {
    "id": "TLAgJ08s4FwP"
   },
   "outputs": [
    {
     "name": "stdout",
     "output_type": "stream",
     "text": [
      "CPU times: user 49.3 ms, sys: 12.9 ms, total: 62.2 ms\n",
      "Wall time: 8.4 s\n"
     ]
    }
   ],
   "source": [
    "%%time\n",
    "model = data_prep_pipeline.fit(training)"
   ]
  },
  {
   "cell_type": "code",
   "execution_count": 19,
   "metadata": {
    "colab": {
     "base_uri": "https://localhost:8080/"
    },
    "id": "fUGhYVTLFUIt",
    "outputId": "843f376a-757e-46ae-f459-557120fc38b2"
   },
   "outputs": [
    {
     "data": {
      "text/plain": [
       "PipelineModel_85e191c53380"
      ]
     },
     "execution_count": 19,
     "metadata": {},
     "output_type": "execute_result"
    }
   ],
   "source": [
    "model"
   ]
  },
  {
   "cell_type": "markdown",
   "metadata": {
    "id": "DunK4rFLRcM_"
   },
   "source": [
    "### Decision Tree Classifier"
   ]
  },
  {
   "cell_type": "code",
   "execution_count": 20,
   "metadata": {
    "id": "B4qj-wB4FdT7"
   },
   "outputs": [],
   "source": [
    "dx = spark.createDataFrame(testing.take(2))"
   ]
  },
  {
   "cell_type": "code",
   "execution_count": 21,
   "metadata": {
    "colab": {
     "base_uri": "https://localhost:8080/"
    },
    "id": "q42HnHSqFwKa",
    "outputId": "428d80dc-befe-4c08-a176-c60bc5bb39cf"
   },
   "outputs": [
    {
     "name": "stdout",
     "output_type": "stream",
     "text": [
      "+--------------------+---------+------+\n",
      "|       OriginalTweet|Sentiment|length|\n",
      "+--------------------+---------+------+\n",
      "| There is enough ...|  Neutral|    97|\n",
      "|\"2 Weeks #Lockdow...|  Neutral|   307|\n",
      "+--------------------+---------+------+\n",
      "\n"
     ]
    }
   ],
   "source": [
    "dx.show()"
   ]
  },
  {
   "cell_type": "code",
   "execution_count": 22,
   "metadata": {
    "id": "SkIpNjoXRcM_"
   },
   "outputs": [],
   "source": [
    "test_results=model.transform(testing)"
   ]
  },
  {
   "cell_type": "code",
   "execution_count": 23,
   "metadata": {
    "id": "3w5Btr6dKrdp"
   },
   "outputs": [
    {
     "name": "stdout",
     "output_type": "stream",
     "text": [
      "+--------------------+---------+------+-----+--------------------+--------------------+--------------------+--------------------+--------------------+--------------------+--------------------+----------+\n",
      "|       OriginalTweet|Sentiment|length|label|          token_text|         stop_tokens|               c_vec|              tf_idf|            features|       rawPrediction|         probability|prediction|\n",
      "+--------------------+---------+------+-----+--------------------+--------------------+--------------------+--------------------+--------------------+--------------------+--------------------+----------+\n",
      "| There is enough ...|  Neutral|    97|  2.0|[, there, is, eno...|[, enough, everyo...|(11863,[3,34,40,8...|(11863,[3,34,40,8...|(11864,[3,34,40,8...|[-325.04929382814...|[0.90302100509302...|       0.0|\n",
      "|\"2 Weeks #Lockdow...|  Neutral|   307|  2.0|[\"2, weeks, #lock...|[\"2, weeks, #lock...|(11863,[1,10,26,3...|(11863,[1,10,26,3...|(11864,[1,10,26,3...|[-688.79452539732...|[1.51378519228307...|       1.0|\n",
      "|\"@quietplacemovie...| Positive|   245|  1.0|[\"@quietplacemovi...|[\"@quietplacemovi...|(11863,[6,14,25,6...|(11863,[6,14,25,6...|(11864,[6,14,25,6...|[-807.85993979259...|[1.79810272835409...|       1.0|\n",
      "|\"A \"\"consumer rem...| Positive|   259|  1.0|[\"a, \"\"consumer, ...|[\"a, \"\"consumer, ...|(11863,[0,15,20,2...|(11863,[0,15,20,2...|(11864,[0,15,20,2...|[-960.49140672804...|[8.96396640824376...|       1.0|\n",
      "|\"Be like my girlf...| Positive|   277|  1.0|[\"be, like, my, g...|[\"be, like, girlf...|(11863,[0,3,4,5,1...|(11863,[0,3,4,5,1...|(11864,[0,3,4,5,1...|[-1215.9074943375...|[7.49253784751378...|       1.0|\n",
      "|\"My grocery store...| Negative|   279|  0.0|[\"my, grocery, st...|[\"my, grocery, st...|(11863,[0,4,5,7,6...|(11863,[0,4,5,7,6...|(11864,[0,4,5,7,6...|[-801.95310296270...|[2.21122790736022...|       1.0|\n",
      "|\"Yesterday in my ...| Negative|   267|  0.0|[\"yesterday, in, ...|[\"yesterday, smal...|(11863,[0,4,56,57...|(11863,[0,4,56,57...|(11864,[0,4,56,57...|[-375.21625029474...|[0.00204348528686...|       1.0|\n",
      "|#BBCqt @MattHanco...|  Neutral|    70|  2.0|[#bbcqt, @matthan...|[#bbcqt, @matthan...|(11863,[0,11,3408...|(11863,[0,11,3408...|(11864,[0,11,3408...|[-205.21837735119...|[0.92870619193710...|       0.0|\n",
      "|#COVID2019 whiske...|  Neutral|    72|  2.0|[#covid2019, whis...|[#covid2019, whis...|(11863,[18,46,51,...|(11863,[18,46,51,...|(11864,[18,46,51,...|[-278.66807018949...|[1.40486436828058...|       2.0|\n",
      "|#Coronavirus is h...| Positive|   162|  1.0|[#coronavirus, is...|[#coronavirus, hu...|(11863,[1,31,134,...|(11863,[1,31,134,...|(11864,[1,31,134,...|[-818.20830358159...|[1.75395818504884...|       2.0|\n",
      "|#Coronavirus my n...| Negative|   263|  0.0|[#coronavirus, my...|[#coronavirus, na...|(11863,[1,8,9,12,...|(11863,[1,8,9,12,...|(11864,[1,8,9,12,...|[-849.13066851787...|[1.0,2.9578761336...|       0.0|\n",
      "|#Covid_19 #Corona...| Negative|   277|  0.0|[#covid_19, #coro...|[#covid_19, #coro...|(11863,[0,3,11,15...|(11863,[0,3,11,15...|(11864,[0,3,11,15...|[-864.08764186116...|[0.99999999990340...|       0.0|\n",
      "|#Covid_19 #corona...| Positive|   292|  1.0|[#covid_19, #coro...|[#covid_19, #coro...|(11863,[0,1,11,92...|(11863,[0,1,11,92...|(11864,[0,1,11,92...|[-1140.9754214257...|[0.99987973853321...|       0.0|\n",
      "|#Covid_19 is pand...| Positive|   210|  1.0|[#covid_19, is, p...|[#covid_19, pande...|(11863,[0,37,121,...|(11863,[0,37,121,...|(11864,[0,37,121,...|[-856.52969321943...|[1.23374173976811...|       1.0|\n",
      "|#Covid_19 or not,...| Positive|   132|  1.0|[#covid_19, or, n...|[#covid_19, not,,...|(11863,[0,3,17,18...|(11863,[0,3,17,18...|(11864,[0,3,17,18...|[-709.48289466525...|[0.99995730709192...|       0.0|\n",
      "|#ITV #Vera openin...|  Neutral|   101|  2.0|[#itv, #vera, ope...|[#itv, #vera, ope...|(11863,[0,11,66,9...|(11863,[0,11,66,9...|(11864,[0,11,66,9...|[-287.06586197435...|[0.99999998313110...|       0.0|\n",
      "|#News cycles rela...|  Neutral|    99|  2.0|[#news, cycles, r...|[#news, cycles, r...|(11863,[0,1,689,1...|(11863,[0,1,689,1...|(11864,[0,1,689,1...|[-304.13273917142...|[3.59602469438156...|       1.0|\n",
      "|#Oil vs #coronavi...| Negative|   267|  0.0|[#oil, vs, #coron...|[#oil, vs, #coron...|(11863,[0,18,121,...|(11863,[0,18,121,...|(11864,[0,18,121,...|[-791.31709126228...|[4.99940926834187...|       2.0|\n",
      "|#Quarantine #coro...| Positive|   272|  1.0|[#quarantine, #co...|[#quarantine, #co...|(11863,[1,6,8,15,...|(11863,[1,6,8,15,...|(11864,[1,6,8,15,...|[-1073.3590779087...|[0.99999999996426...|       0.0|\n",
      "|#Unorthodox measu...| Positive|   208|  1.0|[#unorthodox, mea...|[#unorthodox, mea...|(11863,[0,3,11,45...|(11863,[0,3,11,45...|(11864,[0,3,11,45...|[-893.16923546034...|[0.05528860066718...|       1.0|\n",
      "+--------------------+---------+------+-----+--------------------+--------------------+--------------------+--------------------+--------------------+--------------------+--------------------+----------+\n",
      "only showing top 20 rows\n",
      "\n"
     ]
    }
   ],
   "source": [
    "test_results.show()"
   ]
  },
  {
   "cell_type": "code",
   "execution_count": 24,
   "metadata": {
    "id": "3HbXfEfbRcNA"
   },
   "outputs": [],
   "source": [
    "acc_eval=MulticlassClassificationEvaluator()\n",
    "acc=acc_eval.evaluate(test_results)"
   ]
  },
  {
   "cell_type": "code",
   "execution_count": 25,
   "metadata": {
    "id": "HiO7sTGORcNA",
    "outputId": "9bebcc4c-97ea-4b1d-8d72-f62a9e732602"
   },
   "outputs": [
    {
     "name": "stdout",
     "output_type": "stream",
     "text": [
      "Accuracy of the model is:: 0.5281473038256354\n"
     ]
    }
   ],
   "source": [
    "print (\"Accuracy of the model is::\", acc)"
   ]
  },
  {
   "cell_type": "code",
   "execution_count": null,
   "metadata": {},
   "outputs": [],
   "source": [
    "###############"
   ]
  }
 ],
 "metadata": {
  "colab": {
   "name": "Corona_NLP_Final.ipynb",
   "provenance": []
  },
  "kernelspec": {
   "display_name": "Python 3",
   "language": "python",
   "name": "python3"
  },
  "language_info": {
   "codemirror_mode": {
    "name": "ipython",
    "version": 3
   },
   "file_extension": ".py",
   "mimetype": "text/x-python",
   "name": "python",
   "nbconvert_exporter": "python",
   "pygments_lexer": "ipython3",
   "version": "3.8.8"
  }
 },
 "nbformat": 4,
 "nbformat_minor": 1
}
