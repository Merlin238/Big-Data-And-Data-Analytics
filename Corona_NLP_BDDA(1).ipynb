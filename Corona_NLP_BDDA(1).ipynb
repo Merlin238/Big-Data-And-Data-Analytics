{
 "cells": [
  {
   "cell_type": "markdown",
   "metadata": {
    "id": "yJZJuUuqRcM0"
   },
   "source": [
    "# Big Data and Data Analytics for Managers "
   ]
  },
  {
   "cell_type": "code",
   "execution_count": null,
   "metadata": {},
   "outputs": [],
   "source": [
    "Corona_NLP_BDDA.ipynb"
   ]
  },
  {
   "cell_type": "markdown",
   "metadata": {
    "id": "FPUzJXGZRcM2"
   },
   "source": [
    "## Merlin John - 015027"
   ]
  },
  {
   "cell_type": "markdown",
   "metadata": {
    "id": "J-tjUx1cRcM3"
   },
   "source": [
    "AIM- Perform Text Classification on Coronavirus tweets using Py spark\n"
   ]
  },
  {
   "cell_type": "markdown",
   "metadata": {
    "id": "r42HBYJfRcM4"
   },
   "source": [
    "Columns:\n",
    "\n",
    "1) Location\n",
    "2) Tweet At\n",
    "3) Original Tweet\n",
    "4) Label"
   ]
  },
  {
   "cell_type": "code",
   "execution_count": null,
   "metadata": {
    "colab": {
     "base_uri": "https://localhost:8080/"
    },
    "id": "0h2L0ljjRivj",
    "outputId": "48f90403-1761-494b-cf3f-d3fd7cc34927"
   },
   "outputs": [],
   "source": [
    "#!pip install pyspark"
   ]
  },
  {
   "cell_type": "code",
   "execution_count": null,
   "metadata": {
    "colab": {
     "base_uri": "https://localhost:8080/"
    },
    "id": "5bMyjckJH6ES",
    "outputId": "44c8bbfe-bc67-4c35-c555-6546fb5cd6f7"
   },
   "outputs": [],
   "source": [
    "#import os       #importing os to set environment variable\n",
    "#def install_java():\n",
    "#  !apt-get install -y openjdk-8-jdk-headless -qq > /dev/null      #install openjdk\n",
    "#  os.environ[\"JAVA_HOME\"] = \"/usr/lib/jvm/java-8-openjdk-amd64\"     #set environment variable\n",
    "#  !java -version       #check java version\n",
    "#install_java()"
   ]
  },
  {
   "cell_type": "code",
   "execution_count": 1,
   "metadata": {
    "id": "Dn_P6mFxRcM4"
   },
   "outputs": [],
   "source": [
    "#from pyspark.sql import SparkSession\n",
    "from pyspark.sql.functions import length,  regexp_replace\n",
    "from pyspark.ml.feature import Tokenizer, StopWordsRemover, CountVectorizer, IDF, StringIndexer,HashingTF\n",
    "from pyspark.ml.evaluation import MulticlassClassificationEvaluator\n",
    "from pyspark.ml.feature import VectorAssembler\n",
    "from pyspark.ml.classification import NaiveBayes, RandomForestClassifier, DecisionTreeClassifier\n",
    "from pyspark.ml import Pipeline"
   ]
  },
  {
   "cell_type": "code",
   "execution_count": null,
   "metadata": {
    "id": "Hrz_c6Kt2kBq"
   },
   "outputs": [],
   "source": [
    "#spark = SparkSession.builder \\\n",
    "#        .config(\"spark.driver.memory\",\"6G\")\\\n",
    "#        .config(\"spark.driver.maxResultSize\", \"4G\") \\\n",
    "#        .getOrCreate()"
   ]
  },
  {
   "cell_type": "code",
   "execution_count": null,
   "metadata": {
    "colab": {
     "base_uri": "https://localhost:8080/"
    },
    "id": "_Fk1gu7Qn3qZ",
    "outputId": "84bb34ed-b84e-4412-dacf-a1566cfeab0b"
   },
   "outputs": [],
   "source": [
    "#from google.colab import drive\n",
    "#drive.mount('/gdrive')"
   ]
  },
  {
   "cell_type": "code",
   "execution_count": null,
   "metadata": {
    "id": "o1Map62yoVQ7"
   },
   "outputs": [],
   "source": [
    "#path = \"/gdrive/MyDrive/Colab_data_files/corona_nlp/Corona_NLP_test.csv\"\n",
    "#data=spark.read.csv(path, header = True, inferSchema=True)"
   ]
  },
  {
   "cell_type": "code",
   "execution_count": null,
   "metadata": {},
   "outputs": [],
   "source": [
    "! hdfs dfs -mkdir -p /user/ashok/data_files/corona\n",
    "! hdfs dfs -put /home/ashok/Documents/corona_nlp_test.csv  /user/ashok/data_files/corona\n",
    "! hdfs dfs -ls /user/ashok/data_files/corona"
   ]
  },
  {
   "cell_type": "code",
   "execution_count": 2,
   "metadata": {},
   "outputs": [
    {
     "name": "stdout",
     "output_type": "stream",
     "text": [
      "put: `/user/ashok/data_files/corona/corona_nlp_test.csv': File exists\n",
      "Found 1 items\n",
      "-rw-r--r--   1 ashok supergroup    1002494 2021-11-12 14:41 /user/ashok/data_files/corona/corona_nlp_test.csv\n"
     ]
    }
   ],
   "source": [
    "! hdfs dfs -mkdir -p /user/ashok/data_files/corona\n",
    "! hdfs dfs -put /home/ashok/Downloads/corona_nlp_test.csv  /user/ashok/data_files/corona\n",
    "! hdfs dfs -ls /user/ashok/data_files/corona"
   ]
  },
  {
   "cell_type": "code",
   "execution_count": 3,
   "metadata": {
    "id": "bOmM8KuPD63s"
   },
   "outputs": [],
   "source": [
    "from IPython.core.interactiveshell import InteractiveShell\n",
    "InteractiveShell.ast_node_interactivity = \"all\"\n"
   ]
  },
  {
   "cell_type": "code",
   "execution_count": 4,
   "metadata": {},
   "outputs": [],
   "source": [
    "path = \"/user/ashok/data_files/corona/corona_nlp_test.csv\"\n",
    "data=spark.read.csv(path, header = True, inferSchema=True)"
   ]
  },
  {
   "cell_type": "code",
   "execution_count": 5,
   "metadata": {
    "colab": {
     "base_uri": "https://localhost:8080/"
    },
    "id": "-O2qutCPRcM5",
    "outputId": "3f4cc5be-1bdf-463c-c7e8-0ac2576f0f88"
   },
   "outputs": [
    {
     "name": "stdout",
     "output_type": "stream",
     "text": [
      "+--------------------+--------------------+--------------------+----------+--------------------+------------------+\n",
      "|            UserName|          ScreenName|            Location|   TweetAt|       OriginalTweet|         Sentiment|\n",
      "+--------------------+--------------------+--------------------+----------+--------------------+------------------+\n",
      "|                   1|               44953|                 NYC|02-03-2020|TRENDING: New Yor...|Extremely Negative|\n",
      "|                   2|               44954|         Seattle, WA|02-03-2020|When I couldn't f...|          Positive|\n",
      "|                   3|               44955|                null|02-03-2020|Find out how you ...|Extremely Positive|\n",
      "|                   4|               44956|         Chicagoland|02-03-2020|#Panic buying hit...|              null|\n",
      "|https://t.co/IASi...|                null|                null|      null|                null|              null|\n",
      "|#QAnon #QAnon2018...|                null|                null|      null|                null|              null|\n",
      "|#Election2020 #CD...|            Negative|                null|      null|                null|              null|\n",
      "|                   5|               44957| Melbourne, Victoria|03-03-2020|#toiletpaper #dun...|           Neutral|\n",
      "|                   6|               44958|         Los Angeles|03-03-2020|Do you remember t...|           Neutral|\n",
      "|                   7|               44959|                null|03-03-2020|Voting in the age...|          Positive|\n",
      "|                   8|               44960| Geneva, Switzerland|03-03-2020|\"@DrTedros \"\"We c...|              null|\n",
      "|Prices of surgica...| N95 respirators ...|             Neutral|      null|                null|              null|\n",
      "|                   9|               44961|                null|04-03-2020|HI TWITTER! I am ...|Extremely Negative|\n",
      "|                  10|               44962|     Dublin, Ireland|04-03-2020|Anyone been in a ...|Extremely Positive|\n",
      "|                  11|               44963|Boksburg, South A...|04-03-2020|Best quality couc...|              null|\n",
      "|We are in Boksbur...|                null|                null|      null|                null|              null|\n",
      "|For more info Wha...|                null|                null|      null|                null|              null|\n",
      "|        084 764 8086|                null|                null|      null|                null|              null|\n",
      "|#SuperTuesdsy #Po...|                null|                null|      null|                null|              null|\n",
      "|#Covid_19 #SayEnt...|                null|                null|      null|                null|              null|\n",
      "+--------------------+--------------------+--------------------+----------+--------------------+------------------+\n",
      "only showing top 20 rows\n",
      "\n",
      "root\n",
      " |-- UserName: string (nullable = true)\n",
      " |-- ScreenName: string (nullable = true)\n",
      " |-- Location: string (nullable = true)\n",
      " |-- TweetAt: string (nullable = true)\n",
      " |-- OriginalTweet: string (nullable = true)\n",
      " |-- Sentiment: string (nullable = true)\n",
      "\n"
     ]
    }
   ],
   "source": [
    "data.show()\n",
    "data.printSchema()"
   ]
  },
  {
   "cell_type": "code",
   "execution_count": 6,
   "metadata": {
    "colab": {
     "base_uri": "https://localhost:8080/"
    },
    "id": "nPhwjyhYRcM6",
    "outputId": "bdeab974-3084-44bf-c0ec-a6b79f779789"
   },
   "outputs": [
    {
     "name": "stdout",
     "output_type": "stream",
     "text": [
      "+-------+--------------------+--------------------+--------------------+--------------------+--------------------+--------------------+\n",
      "|summary|            UserName|          ScreenName|            Location|             TweetAt|       OriginalTweet|           Sentiment|\n",
      "+-------+--------------------+--------------------+--------------------+--------------------+--------------------+--------------------+\n",
      "|  count|                6792|                5340|                3180|                3866|                3826|                2533|\n",
      "|   mean|   1896.592797055731|  46766.095926412614|  16318.284598214286|                null|                null|                null|\n",
      "| stddev|  1098.1117587571187|   2271.481448081071|      33413.20664644|                null|                null|                null|\n",
      "|    min|                 ...|  we must DEMAND ...|                    | #sainsburys etc....|  We ve got sever...| \"\"buy tinned foo...|\n",
      "|    max|          ··········|       @CNN Business|ÜT: 44.881667,-93...|lost over 10% of ...| Distance Learni...|            Positive|\n",
      "+-------+--------------------+--------------------+--------------------+--------------------+--------------------+--------------------+\n",
      "\n"
     ]
    }
   ],
   "source": [
    "data.describe().show()"
   ]
  },
  {
   "cell_type": "markdown",
   "metadata": {
    "id": "Awp8esGGRcM6"
   },
   "source": [
    "# Data Prepration"
   ]
  },
  {
   "cell_type": "code",
   "execution_count": 7,
   "metadata": {
    "colab": {
     "base_uri": "https://localhost:8080/"
    },
    "id": "q-U_3DG0RcM6",
    "outputId": "757697b4-a6e4-420c-d6fa-52317785404e",
    "scrolled": true
   },
   "outputs": [
    {
     "name": "stdout",
     "output_type": "stream",
     "text": [
      "+--------------------+-----+\n",
      "|            Location|count|\n",
      "+--------------------+-----+\n",
      "|ÜT: 44.881667,-93...|    1|\n",
      "|ÜT: 43.661815,-79...|    1|\n",
      "|ÜT: 43.64624,-79....|    1|\n",
      "|ÜT: 40.725815,-74...|    1|\n",
      "|ÜT: 40.5896566,-7...|    1|\n",
      "|ÜT: 3.099457,101....|    1|\n",
      "|ÜT: 28.508488,-81...|    1|\n",
      "| ~ JHB, South Africa|    1|\n",
      "|    www.303Gonzo.com|    1|\n",
      "|       world citizen|    1|\n",
      "+--------------------+-----+\n",
      "only showing top 10 rows\n",
      "\n"
     ]
    }
   ],
   "source": [
    "result_df = data.groupBy(\"Location\").count().sort(\"Location\", ascending=False)\n",
    "result_df.show(10)"
   ]
  },
  {
   "cell_type": "code",
   "execution_count": 8,
   "metadata": {
    "colab": {
     "base_uri": "https://localhost:8080/"
    },
    "id": "MjcCCK3oRcM7",
    "outputId": "28d34a9a-73c3-485f-97f0-d39deac2543d"
   },
   "outputs": [
    {
     "name": "stdout",
     "output_type": "stream",
     "text": [
      "+--------------------+----------+-------------------+----------+--------------------+------------------+------+\n",
      "|            UserName|ScreenName|           Location|   TweetAt|       OriginalTweet|         Sentiment|length|\n",
      "+--------------------+----------+-------------------+----------+--------------------+------------------+------+\n",
      "|                   1|     44953|                NYC|02-03-2020|TRENDING: New Yor...|Extremely Negative|   228|\n",
      "|                   2|     44954|        Seattle, WA|02-03-2020|When I couldn't f...|          Positive|   193|\n",
      "|                   3|     44955|               null|02-03-2020|Find out how you ...|Extremely Positive|    73|\n",
      "|                   4|     44956|        Chicagoland|02-03-2020|#Panic buying hit...|              null|   209|\n",
      "|https://t.co/IASi...|      null|               null|      null|                null|              null|  null|\n",
      "|#QAnon #QAnon2018...|      null|               null|      null|                null|              null|  null|\n",
      "|#Election2020 #CD...|  Negative|               null|      null|                null|              null|  null|\n",
      "|                   5|     44957|Melbourne, Victoria|03-03-2020|#toiletpaper #dun...|           Neutral|   252|\n",
      "|                   6|     44958|        Los Angeles|03-03-2020|Do you remember t...|           Neutral|   205|\n",
      "|                   7|     44959|               null|03-03-2020|Voting in the age...|          Positive|    90|\n",
      "+--------------------+----------+-------------------+----------+--------------------+------------------+------+\n",
      "only showing top 10 rows\n",
      "\n"
     ]
    }
   ],
   "source": [
    "data=data.withColumn('length', length(data['OriginalTweet']))\n",
    "data.show(10)"
   ]
  },
  {
   "cell_type": "code",
   "execution_count": 9,
   "metadata": {
    "colab": {
     "base_uri": "https://localhost:8080/"
    },
    "id": "Y14lk3m2AV43",
    "outputId": "b60d440c-cb0d-44a0-ec66-85bf650df41a"
   },
   "outputs": [
    {
     "name": "stdout",
     "output_type": "stream",
     "text": [
      "+--------------------+---------+------+\n",
      "|       OriginalTweet|Sentiment|length|\n",
      "+--------------------+---------+------+\n",
      "|#CoronaVirus #COV...| Negative|   284|\n",
      "|When your usual g...| Negative|   201|\n",
      "|While you are sto...| Negative|   250|\n",
      "|Two important pho...| Negative|   271|\n",
      "|Fellow Uni instru...| Negative|   274|\n",
      "|1/25 Part 1 - Why...| Negative|   300|\n",
      "|For those self in...| Negative|   166|\n",
      "|Report any and al...| Negative|   214|\n",
      "|Met with members ...| Negative|   303|\n",
      "|Every shop, chemi...| Negative|   270|\n",
      "+--------------------+---------+------+\n",
      "only showing top 10 rows\n",
      "\n"
     ]
    }
   ],
   "source": [
    "data=data.drop(\"UserName\",\"ScreenName\",\"Location\",\"TweetAt\")\n",
    "data.filter(data[\"Sentiment\"]==\"Negative\").show(10)"
   ]
  },
  {
   "cell_type": "code",
   "execution_count": 10,
   "metadata": {
    "colab": {
     "base_uri": "https://localhost:8080/"
    },
    "id": "DIu-i0t3RcM8",
    "outputId": "52b8dc22-ba36-4a24-fb29-bee584c7a2fc"
   },
   "outputs": [
    {
     "name": "stdout",
     "output_type": "stream",
     "text": [
      "+--------------------+--------------------+------+\n",
      "|       OriginalTweet|           Sentiment|length|\n",
      "+--------------------+--------------------+------+\n",
      "|TRENDING: New Yor...|  Extremely Negative|   228|\n",
      "|When I couldn't f...|            Positive|   193|\n",
      "|Find out how you ...|  Extremely Positive|    73|\n",
      "|#toiletpaper #dun...|             Neutral|   252|\n",
      "|Do you remember t...|             Neutral|   205|\n",
      "|Voting in the age...|            Positive|    90|\n",
      "|HI TWITTER! I am ...|  Extremely Negative|   280|\n",
      "|Anyone been in a ...|  Extremely Positive|   238|\n",
      "|While we were bus...|            Positive|   197|\n",
      "|When youre stock...|             Neutral|   187|\n",
      "|#CoronaVirus #COV...|            Negative|   284|\n",
      "|\"For those of you...|  Extremely Positive|   279|\n",
      "|Control over stoc...|  Extremely Positive|   237|\n",
      "|When your usual g...|            Negative|   201|\n",
      "|While you are sto...|            Negative|   250|\n",
      "|\"#Coronavirus is ...|\"\" says NELP Gove...|    72|\n",
      "|Two important pho...|            Negative|   271|\n",
      "|IMHO Russia's rug...|  Extremely Negative|   280|\n",
      "|So not due to #Br...|             Neutral|   148|\n",
      "|Fellow Uni instru...|            Negative|   274|\n",
      "+--------------------+--------------------+------+\n",
      "only showing top 20 rows\n",
      "\n"
     ]
    }
   ],
   "source": [
    "data = data.na.drop()\n",
    "data.show()"
   ]
  },
  {
   "cell_type": "code",
   "execution_count": 11,
   "metadata": {},
   "outputs": [
    {
     "name": "stdout",
     "output_type": "stream",
     "text": [
      "+--------------------+------------------+------+\n",
      "|       OriginalTweet|         Sentiment|length|\n",
      "+--------------------+------------------+------+\n",
      "|TRENDING: New Yor...|Extremely Negative|   228|\n",
      "|When I couldn't f...|          Positive|   193|\n",
      "|Find out how you ...|Extremely Positive|    73|\n",
      "|#toiletpaper #dun...|           Neutral|   252|\n",
      "|Do you remember t...|           Neutral|   205|\n",
      "|Voting in the age...|          Positive|    90|\n",
      "|HI TWITTER! I am ...|Extremely Negative|   280|\n",
      "|Anyone been in a ...|Extremely Positive|   238|\n",
      "|While we were bus...|          Positive|   197|\n",
      "|When youre stock...|           Neutral|   187|\n",
      "|#CoronaVirus #COV...|          Negative|   284|\n",
      "|\"For those of you...|Extremely Positive|   279|\n",
      "|Control over stoc...|Extremely Positive|   237|\n",
      "|When your usual g...|          Negative|   201|\n",
      "|While you are sto...|          Negative|   250|\n",
      "|Two important pho...|          Negative|   271|\n",
      "|IMHO Russia's rug...|Extremely Negative|   280|\n",
      "|So not due to #Br...|           Neutral|   148|\n",
      "|Fellow Uni instru...|          Negative|   274|\n",
      "|1/25 Part 1 - Why...|          Negative|   300|\n",
      "+--------------------+------------------+------+\n",
      "only showing top 20 rows\n",
      "\n"
     ]
    }
   ],
   "source": [
    "data = data.filter(\"Sentiment == 'Neutral' OR Sentiment == 'Negative' OR Sentiment == 'Positive' OR Sentiment == 'Extremely Negative' OR Sentiment == 'Extremely Positive'\")\n",
    "data.show()"
   ]
  },
  {
   "cell_type": "code",
   "execution_count": 12,
   "metadata": {},
   "outputs": [],
   "source": [
    "data = data.withColumn('Sentiment', regexp_replace('Sentiment', 'Extremely Negative', 'Negative'))\n",
    "data = data.withColumn('Sentiment', regexp_replace('Sentiment', 'Extremely Positive', 'Positive'))"
   ]
  },
  {
   "cell_type": "code",
   "execution_count": 13,
   "metadata": {},
   "outputs": [
    {
     "name": "stdout",
     "output_type": "stream",
     "text": [
      "+--------------------+---------+------+\n",
      "|       OriginalTweet|Sentiment|length|\n",
      "+--------------------+---------+------+\n",
      "|TRENDING: New Yor...| Negative|   228|\n",
      "|When I couldn't f...| Positive|   193|\n",
      "|Find out how you ...| Positive|    73|\n",
      "|#toiletpaper #dun...|  Neutral|   252|\n",
      "|Do you remember t...|  Neutral|   205|\n",
      "|Voting in the age...| Positive|    90|\n",
      "|HI TWITTER! I am ...| Negative|   280|\n",
      "|Anyone been in a ...| Positive|   238|\n",
      "|While we were bus...| Positive|   197|\n",
      "|When youre stock...|  Neutral|   187|\n",
      "|#CoronaVirus #COV...| Negative|   284|\n",
      "|\"For those of you...| Positive|   279|\n",
      "|Control over stoc...| Positive|   237|\n",
      "|When your usual g...| Negative|   201|\n",
      "|While you are sto...| Negative|   250|\n",
      "|Two important pho...| Negative|   271|\n",
      "|IMHO Russia's rug...| Negative|   280|\n",
      "|So not due to #Br...|  Neutral|   148|\n",
      "|Fellow Uni instru...| Negative|   274|\n",
      "|1/25 Part 1 - Why...| Negative|   300|\n",
      "+--------------------+---------+------+\n",
      "only showing top 20 rows\n",
      "\n"
     ]
    }
   ],
   "source": [
    "data.show()"
   ]
  },
  {
   "cell_type": "markdown",
   "metadata": {
    "id": "THsGLjFtRcM8"
   },
   "source": [
    "# Features Transformation"
   ]
  },
  {
   "cell_type": "code",
   "execution_count": 14,
   "metadata": {
    "id": "D0OxTTsCqQwy"
   },
   "outputs": [],
   "source": [
    "tokenizer=Tokenizer(inputCol=\"OriginalTweet\", outputCol=\"token_text\")\n",
    "stopremove=StopWordsRemover(inputCol=\"token_text\", outputCol=\"stop_tokens\")\n",
    "count_vec=CountVectorizer(inputCol=\"stop_tokens\", outputCol=\"c_vec\")\n",
    "#hashingTF = HashingTF(inputCol=\"stop_tokens\", outputCol=\"c_vec\", numFeatures=5000)\n",
    "idf=IDF(inputCol=\"c_vec\", outputCol=\"tf_idf\")\n",
    "# we also need to convert our labels in numbers\n",
    "ham_samp_to_num = StringIndexer(inputCol=\"Sentiment\", outputCol='label')\n",
    "clean_up = VectorAssembler(inputCols=['tf_idf','length'], outputCol='features')"
   ]
  },
  {
   "cell_type": "markdown",
   "metadata": {
    "id": "3yiw5A4oRcM9"
   },
   "source": [
    "# Model"
   ]
  },
  {
   "cell_type": "code",
   "execution_count": 216,
   "metadata": {
    "id": "m9nIxjNARcM9"
   },
   "outputs": [],
   "source": [
    "dtc=DecisionTreeClassifier(maxDepth=30)\n",
    "rf=RandomForestClassifier(numTrees=200)\n",
    "nb=NaiveBayes()"
   ]
  },
  {
   "cell_type": "markdown",
   "metadata": {
    "id": "ZJTW5K8rRcM9"
   },
   "source": [
    "# Pipeline"
   ]
  },
  {
   "cell_type": "code",
   "execution_count": 164,
   "metadata": {
    "id": "Kx0_tdvXRcM-"
   },
   "outputs": [],
   "source": [
    "data_prep_pipeline= Pipeline(stages=[ham_samp_to_num, tokenizer, stopremove,count_vec, idf,clean_up, nb])"
   ]
  },
  {
   "cell_type": "code",
   "execution_count": 165,
   "metadata": {},
   "outputs": [
    {
     "name": "stdout",
     "output_type": "stream",
     "text": [
      "+--------------------+---------+------+\n",
      "|       OriginalTweet|Sentiment|length|\n",
      "+--------------------+---------+------+\n",
      "|TRENDING: New Yor...| Negative|   228|\n",
      "|When I couldn't f...| Positive|   193|\n",
      "|Find out how you ...| Positive|    73|\n",
      "|#toiletpaper #dun...|  Neutral|   252|\n",
      "|Do you remember t...|  Neutral|   205|\n",
      "|Voting in the age...| Positive|    90|\n",
      "|HI TWITTER! I am ...| Negative|   280|\n",
      "|Anyone been in a ...| Positive|   238|\n",
      "|While we were bus...| Positive|   197|\n",
      "|When youre stock...|  Neutral|   187|\n",
      "|#CoronaVirus #COV...| Negative|   284|\n",
      "|\"For those of you...| Positive|   279|\n",
      "|Control over stoc...| Positive|   237|\n",
      "|When your usual g...| Negative|   201|\n",
      "|While you are sto...| Negative|   250|\n",
      "|Two important pho...| Negative|   271|\n",
      "|IMHO Russia's rug...| Negative|   280|\n",
      "|So not due to #Br...|  Neutral|   148|\n",
      "|Fellow Uni instru...| Negative|   274|\n",
      "|1/25 Part 1 - Why...| Negative|   300|\n",
      "+--------------------+---------+------+\n",
      "only showing top 20 rows\n",
      "\n"
     ]
    }
   ],
   "source": [
    "data.show()"
   ]
  },
  {
   "cell_type": "code",
   "execution_count": 166,
   "metadata": {
    "id": "BdNSvfVYCkVD"
   },
   "outputs": [],
   "source": [
    "(training, testing)= data.randomSplit([0.8,0.2])"
   ]
  },
  {
   "cell_type": "code",
   "execution_count": 167,
   "metadata": {},
   "outputs": [
    {
     "name": "stdout",
     "output_type": "stream",
     "text": [
      "+--------------------+---------+------+\n",
      "|       OriginalTweet|Sentiment|length|\n",
      "+--------------------+---------+------+\n",
      "| Food poverty doe...| Negative|   225|\n",
      "| There is enough ...|  Neutral|    97|\n",
      "| This is the best...| Positive|   181|\n",
      "| and major tech c...| Positive|    49|\n",
      "| and vegetables&g...| Positive|    30|\n",
      "| as bad as that is.\"| Negative|    20|\n",
      "| we shouldn't pan...| Negative|    21|\n",
      "|\"\"\"Current estima...|  Neutral|   138|\n",
      "|\"#Airbnb some hos...| Negative|   287|\n",
      "|\"#BREAKING: Ontar...| Negative|   250|\n",
      "|\"#Covid_19 #Hamst...| Positive|   207|\n",
      "|\"2 Weeks #Lockdow...|  Neutral|   307|\n",
      "|\"?? Starbucks may...| Positive|   127|\n",
      "|\"@AskTarget \"\"cor...| Positive|   244|\n",
      "|\"@Ryanair is at i...| Positive|   259|\n",
      "|\"@iamshafaatali I...| Negative|   259|\n",
      "|\"@phineashead @Bo...| Negative|   259|\n",
      "|\"@quietplacemovie...| Positive|   245|\n",
      "|\"A \"\"consumer rem...| Positive|   259|\n",
      "|\"Apparently Chest...| Positive|   174|\n",
      "+--------------------+---------+------+\n",
      "only showing top 20 rows\n",
      "\n"
     ]
    }
   ],
   "source": [
    "training.show()"
   ]
  },
  {
   "cell_type": "code",
   "execution_count": 168,
   "metadata": {},
   "outputs": [
    {
     "name": "stdout",
     "output_type": "stream",
     "text": [
      "+--------------------+---------+------+\n",
      "|       OriginalTweet|Sentiment|length|\n",
      "+--------------------+---------+------+\n",
      "|  We ve got sever...| Negative|   235|\n",
      "| Amazon Needs to ...| Negative|   203|\n",
      "|!!!!!!! French Pr...| Negative|   133|\n",
      "|\"@colemank83 offe...| Positive|   221|\n",
      "|\"@yogagirlmab Ano...| Negative|   261|\n",
      "|\"Crowe's Gala in ...| Positive|   199|\n",
      "|\"For those of you...| Positive|   279|\n",
      "|\"I usually stock ...| Negative|   306|\n",
      "|\"NO #toiletpaper ...| Negative|   264|\n",
      "|#BBCqt @MattHanco...|  Neutral|    70|\n",
      "|#Coronavirus bori...| Negative|   225|\n",
      "|#Coronavirus has ...| Positive|   277|\n",
      "|#Coronavirus, or ...| Positive|   137|\n",
      "|#Coronavirus: L.A...|  Neutral|   112|\n",
      "|#CoronavirusPande...| Positive|   223|\n",
      "|#CoronavirusPande...| Positive|   218|\n",
      "|#CoronavirusPande...| Positive|   302|\n",
      "|#Covid_19 All the...|  Neutral|   209|\n",
      "|#Covid_19 Third, ...| Negative|   263|\n",
      "|#Covid_19 is in t...| Positive|    65|\n",
      "+--------------------+---------+------+\n",
      "only showing top 20 rows\n",
      "\n"
     ]
    }
   ],
   "source": [
    "testing.show()"
   ]
  },
  {
   "cell_type": "code",
   "execution_count": 169,
   "metadata": {
    "id": "TLAgJ08s4FwP"
   },
   "outputs": [
    {
     "name": "stdout",
     "output_type": "stream",
     "text": [
      "CPU times: user 34.6 ms, sys: 23.1 ms, total: 57.8 ms\n",
      "Wall time: 2.92 s\n"
     ]
    }
   ],
   "source": [
    "%%time\n",
    "model = data_prep_pipeline.fit(training)"
   ]
  },
  {
   "cell_type": "code",
   "execution_count": 170,
   "metadata": {
    "colab": {
     "base_uri": "https://localhost:8080/"
    },
    "id": "fUGhYVTLFUIt",
    "outputId": "843f376a-757e-46ae-f459-557120fc38b2"
   },
   "outputs": [
    {
     "data": {
      "text/plain": [
       "PipelineModel_d9ce09ee9091"
      ]
     },
     "execution_count": 170,
     "metadata": {},
     "output_type": "execute_result"
    }
   ],
   "source": [
    "model"
   ]
  },
  {
   "cell_type": "markdown",
   "metadata": {},
   "source": [
    "### Naive Bayes"
   ]
  },
  {
   "cell_type": "code",
   "execution_count": 171,
   "metadata": {
    "id": "B4qj-wB4FdT7"
   },
   "outputs": [],
   "source": [
    "dx = spark.createDataFrame(testing.take(2))"
   ]
  },
  {
   "cell_type": "code",
   "execution_count": 172,
   "metadata": {
    "colab": {
     "base_uri": "https://localhost:8080/"
    },
    "id": "q42HnHSqFwKa",
    "outputId": "428d80dc-befe-4c08-a176-c60bc5bb39cf"
   },
   "outputs": [
    {
     "name": "stdout",
     "output_type": "stream",
     "text": [
      "+--------------------+---------+------+\n",
      "|       OriginalTweet|Sentiment|length|\n",
      "+--------------------+---------+------+\n",
      "|  We ve got sever...| Negative|   235|\n",
      "| Amazon Needs to ...| Negative|   203|\n",
      "+--------------------+---------+------+\n",
      "\n"
     ]
    }
   ],
   "source": [
    "dx.show()"
   ]
  },
  {
   "cell_type": "code",
   "execution_count": 173,
   "metadata": {
    "id": "SkIpNjoXRcM_"
   },
   "outputs": [],
   "source": [
    "test_results=model.transform(testing)"
   ]
  },
  {
   "cell_type": "code",
   "execution_count": 174,
   "metadata": {
    "id": "3w5Btr6dKrdp"
   },
   "outputs": [
    {
     "name": "stdout",
     "output_type": "stream",
     "text": [
      "+--------------------+---------+------+-----+--------------------+--------------------+--------------------+--------------------+--------------------+--------------------+--------------------+----------+\n",
      "|       OriginalTweet|Sentiment|length|label|          token_text|         stop_tokens|               c_vec|              tf_idf|            features|       rawPrediction|         probability|prediction|\n",
      "+--------------------+---------+------+-----+--------------------+--------------------+--------------------+--------------------+--------------------+--------------------+--------------------+----------+\n",
      "|  We ve got sever...| Negative|   235|  0.0|[, , we, ve, got,...|[, , ve, got, sev...|(11867,[2,3,24,37...|(11867,[2,3,24,37...|(11868,[2,3,24,37...|[-1105.1072412442...|[4.50602241541471...|       1.0|\n",
      "| Amazon Needs to ...| Negative|   203|  0.0|[, amazon, needs,...|[, amazon, needs,...|(11867,[2,7,9,10,...|(11867,[2,7,9,10,...|(11868,[2,7,9,10,...|[-1182.4923253025...|[9.17491547099101...|       1.0|\n",
      "|!!!!!!! French Pr...| Negative|   133|  0.0|[!!!!!!!, french,...|[!!!!!!!, french,...|(11867,[106,398,1...|(11867,[106,398,1...|(11868,[106,398,1...|[-392.64260961070...|[0.99999974393435...|       0.0|\n",
      "|\"@colemank83 offe...| Positive|   221|  1.0|[\"@colemank83, of...|[\"@colemank83, of...|(11867,[3,6,7,89,...|(11867,[3,6,7,89,...|(11868,[3,6,7,89,...|[-663.13584225862...|[4.83453375930893...|       1.0|\n",
      "|\"@yogagirlmab Ano...| Negative|   261|  0.0|[\"@yogagirlmab, a...|[\"@yogagirlmab, a...|(11867,[3,38,48,8...|(11867,[3,38,48,8...|(11868,[3,38,48,8...|[-872.51753394840...|[5.29821556569039...|       1.0|\n",
      "|\"Crowe's Gala in ...| Positive|   199|  1.0|[\"crowe's, gala, ...|[\"crowe's, gala, ...|(11867,[3,6,92,30...|(11867,[3,6,92,30...|(11868,[3,6,92,30...|[-559.26959946167...|[1.0,2.2679119014...|       0.0|\n",
      "|\"For those of you...| Positive|   279|  1.0|[\"for, those, of,...|[\"for, think, cre...|(11867,[2,4,5,7,5...|(11867,[2,4,5,7,5...|(11868,[2,4,5,7,5...|[-765.02600821313...|[0.99999985579403...|       0.0|\n",
      "|\"I usually stock ...| Negative|   306|  0.0|[\"i, usually, sto...|[\"i, usually, sto...|(11867,[1,6,9,10,...|(11867,[1,6,9,10,...|(11868,[1,6,9,10,...|[-1136.6574035967...|[1.0,7.2810811439...|       0.0|\n",
      "|\"NO #toiletpaper ...| Negative|   264|  0.0|[\"no, #toiletpape...|[\"no, #toiletpape...|(11867,[2,4,5,8,2...|(11867,[2,4,5,8,2...|(11868,[2,4,5,8,2...|[-992.76852658936...|[5.97715301669522...|       1.0|\n",
      "|#BBCqt @MattHanco...|  Neutral|    70|  2.0|[#bbcqt, @matthan...|[#bbcqt, @matthan...|(11867,[0,12,3402...|(11867,[0,12,3402...|(11868,[0,12,3402...|[-118.99318344505...|[0.99999967814761...|       0.0|\n",
      "|#Coronavirus bori...| Negative|   225|  0.0|[#coronavirus, bo...|[#coronavirus, bo...|(11867,[1,3,7,11,...|(11867,[1,3,7,11,...|(11868,[1,3,7,11,...|[-638.20932906338...|[0.99879916726795...|       0.0|\n",
      "|#Coronavirus has ...| Positive|   277|  1.0|[#coronavirus, ha...|[#coronavirus, st...|(11867,[1,14,120,...|(11867,[1,14,120,...|(11868,[1,14,120,...|[-690.15446322975...|[7.21603451132858...|       1.0|\n",
      "|#Coronavirus, or ...| Positive|   137|  1.0|[#coronavirus,, o...|[#coronavirus,, c...|(11867,[245,376,3...|(11867,[245,376,3...|(11868,[245,376,3...|[-402.97781296769...|[0.04685614075446...|       2.0|\n",
      "|#Coronavirus: L.A...|  Neutral|   112|  2.0|[#coronavirus:, l...|[#coronavirus:, l...|(11867,[6,45,73,1...|(11867,[6,45,73,1...|(11868,[6,45,73,1...|[-368.37670579941...|[0.99999994949611...|       0.0|\n",
      "|#CoronavirusPande...| Positive|   223|  1.0|[#coronaviruspand...|[#coronaviruspand...|(11867,[0,2,4,9,1...|(11867,[0,2,4,9,1...|(11868,[0,2,4,9,1...|[-733.47082555373...|[2.40961653415852...|       1.0|\n",
      "|#CoronavirusPande...| Positive|   218|  1.0|[#coronaviruspand...|[#coronaviruspand...|(11867,[1,2,5,13,...|(11867,[1,2,5,13,...|(11868,[1,2,5,13,...|[-835.16711268214...|[1.76316630257970...|       1.0|\n",
      "|#CoronavirusPande...| Positive|   302|  1.0|[#coronaviruspand...|[#coronaviruspand...|(11867,[0,1,16,19...|(11867,[0,1,16,19...|(11868,[0,1,16,19...|[-725.65193832928...|[3.13272555455059...|       1.0|\n",
      "|#Covid_19 All the...|  Neutral|   209|  2.0|[#covid_19, all, ...|[#covid_19, men, ...|(11867,[0,4,18,29...|(11867,[0,4,18,29...|(11868,[0,4,18,29...|[-617.82455707541...|[2.39426300555371...|       2.0|\n",
      "|#Covid_19 Third, ...| Negative|   263|  0.0|[#covid_19, third...|[#covid_19, third...|(11867,[0,16,19,4...|(11867,[0,16,19,4...|(11868,[0,16,19,4...|[-989.39257885475...|[1.01615020281574...|       1.0|\n",
      "|#Covid_19 is in t...| Positive|    65|  1.0|[#covid_19, is, i...|[#covid_19, way.,...|(11867,[0,19,1210...|(11867,[0,19,1210...|(11868,[0,19,1210...|[-269.91036455948...|[1.49468632036860...|       1.0|\n",
      "+--------------------+---------+------+-----+--------------------+--------------------+--------------------+--------------------+--------------------+--------------------+--------------------+----------+\n",
      "only showing top 20 rows\n",
      "\n"
     ]
    }
   ],
   "source": [
    "test_results.show()"
   ]
  },
  {
   "cell_type": "code",
   "execution_count": 175,
   "metadata": {
    "id": "3HbXfEfbRcNA"
   },
   "outputs": [],
   "source": [
    "acc_eval=MulticlassClassificationEvaluator()\n",
    "acc=acc_eval.evaluate(test_results)"
   ]
  },
  {
   "cell_type": "code",
   "execution_count": 176,
   "metadata": {
    "id": "HiO7sTGORcNA",
    "outputId": "9bebcc4c-97ea-4b1d-8d72-f62a9e732602"
   },
   "outputs": [
    {
     "name": "stdout",
     "output_type": "stream",
     "text": [
      "Accuracy of the model is:: 0.5307387964171865\n"
     ]
    }
   ],
   "source": [
    "print (\"Accuracy of the model is::\", acc)"
   ]
  },
  {
   "cell_type": "markdown",
   "metadata": {
    "id": "DunK4rFLRcM_"
   },
   "source": [
    "### Decision Tree Classifier"
   ]
  },
  {
   "cell_type": "code",
   "execution_count": 177,
   "metadata": {
    "id": "Kx0_tdvXRcM-"
   },
   "outputs": [],
   "source": [
    "data_prep_pipeline= Pipeline(stages=[ham_samp_to_num, tokenizer, stopremove,count_vec, idf,clean_up, dtc])"
   ]
  },
  {
   "cell_type": "code",
   "execution_count": 178,
   "metadata": {},
   "outputs": [
    {
     "data": {
      "text/plain": [
       "PipelineModel_bb5e3c42ed37"
      ]
     },
     "execution_count": 178,
     "metadata": {},
     "output_type": "execute_result"
    }
   ],
   "source": [
    "model = data_prep_pipeline.fit(training)\n",
    "model"
   ]
  },
  {
   "cell_type": "code",
   "execution_count": 179,
   "metadata": {},
   "outputs": [
    {
     "name": "stdout",
     "output_type": "stream",
     "text": [
      "+--------------------+---------+------+\n",
      "|       OriginalTweet|Sentiment|length|\n",
      "+--------------------+---------+------+\n",
      "|  We ve got sever...| Negative|   235|\n",
      "| Amazon Needs to ...| Negative|   203|\n",
      "+--------------------+---------+------+\n",
      "\n"
     ]
    }
   ],
   "source": [
    "dx = spark.createDataFrame(testing.take(2))\n",
    "dx.show()"
   ]
  },
  {
   "cell_type": "code",
   "execution_count": 180,
   "metadata": {
    "id": "SkIpNjoXRcM_"
   },
   "outputs": [
    {
     "name": "stdout",
     "output_type": "stream",
     "text": [
      "+--------------------+---------+------+-----+--------------------+--------------------+--------------------+--------------------+--------------------+-----------------+--------------------+----------+\n",
      "|       OriginalTweet|Sentiment|length|label|          token_text|         stop_tokens|               c_vec|              tf_idf|            features|    rawPrediction|         probability|prediction|\n",
      "+--------------------+---------+------+-----+--------------------+--------------------+--------------------+--------------------+--------------------+-----------------+--------------------+----------+\n",
      "|  We ve got sever...| Negative|   235|  0.0|[, , we, ve, got,...|[, , ve, got, sev...|(11867,[2,3,24,37...|(11867,[2,3,24,37...|(11868,[2,3,24,37...|   [36.0,0.0,0.0]|       [1.0,0.0,0.0]|       0.0|\n",
      "| Amazon Needs to ...| Negative|   203|  0.0|[, amazon, needs,...|[, amazon, needs,...|(11867,[2,7,9,10,...|(11867,[2,7,9,10,...|(11868,[2,7,9,10,...|[125.0,81.0,58.0]|[0.47348484848484...|       0.0|\n",
      "|!!!!!!! French Pr...| Negative|   133|  0.0|[!!!!!!!, french,...|[!!!!!!!, french,...|(11867,[106,398,1...|(11867,[106,398,1...|(11868,[106,398,1...|  [25.0,4.0,12.0]|[0.60975609756097...|       0.0|\n",
      "|\"@colemank83 offe...| Positive|   221|  1.0|[\"@colemank83, of...|[\"@colemank83, of...|(11867,[3,6,7,89,...|(11867,[3,6,7,89,...|(11868,[3,6,7,89,...|   [31.0,9.0,5.0]|[0.68888888888888...|       0.0|\n",
      "|\"@yogagirlmab Ano...| Negative|   261|  0.0|[\"@yogagirlmab, a...|[\"@yogagirlmab, a...|(11867,[3,38,48,8...|(11867,[3,38,48,8...|(11868,[3,38,48,8...|[121.0,80.0,23.0]|[0.54017857142857...|       0.0|\n",
      "|\"Crowe's Gala in ...| Positive|   199|  1.0|[\"crowe's, gala, ...|[\"crowe's, gala, ...|(11867,[3,6,92,30...|(11867,[3,6,92,30...|(11868,[3,6,92,30...|    [0.0,0.0,5.0]|       [0.0,0.0,1.0]|       2.0|\n",
      "|\"For those of you...| Positive|   279|  1.0|[\"for, those, of,...|[\"for, think, cre...|(11867,[2,4,5,7,5...|(11867,[2,4,5,7,5...|(11868,[2,4,5,7,5...|    [0.0,4.0,0.0]|       [0.0,1.0,0.0]|       1.0|\n",
      "|\"I usually stock ...| Negative|   306|  0.0|[\"i, usually, sto...|[\"i, usually, sto...|(11867,[1,6,9,10,...|(11867,[1,6,9,10,...|(11868,[1,6,9,10,...|    [1.0,0.0,0.0]|       [1.0,0.0,0.0]|       0.0|\n",
      "|\"NO #toiletpaper ...| Negative|   264|  0.0|[\"no, #toiletpape...|[\"no, #toiletpape...|(11867,[2,4,5,8,2...|(11867,[2,4,5,8,2...|(11868,[2,4,5,8,2...|[121.0,80.0,23.0]|[0.54017857142857...|       0.0|\n",
      "|#BBCqt @MattHanco...|  Neutral|    70|  2.0|[#bbcqt, @matthan...|[#bbcqt, @matthan...|(11867,[0,12,3402...|(11867,[0,12,3402...|(11868,[0,12,3402...|  [0.0,10.0,63.0]|[0.0,0.1369863013...|       2.0|\n",
      "|#Coronavirus bori...| Negative|   225|  0.0|[#coronavirus, bo...|[#coronavirus, bo...|(11867,[1,3,7,11,...|(11867,[1,3,7,11,...|(11868,[1,3,7,11,...|    [1.0,0.0,0.0]|       [1.0,0.0,0.0]|       0.0|\n",
      "|#Coronavirus has ...| Positive|   277|  1.0|[#coronavirus, ha...|[#coronavirus, st...|(11867,[1,14,120,...|(11867,[1,14,120,...|(11868,[1,14,120,...|[121.0,80.0,23.0]|[0.54017857142857...|       0.0|\n",
      "|#Coronavirus, or ...| Positive|   137|  1.0|[#coronavirus,, o...|[#coronavirus,, c...|(11867,[245,376,3...|(11867,[245,376,3...|(11868,[245,376,3...|  [25.0,4.0,12.0]|[0.60975609756097...|       0.0|\n",
      "|#Coronavirus: L.A...|  Neutral|   112|  2.0|[#coronavirus:, l...|[#coronavirus:, l...|(11867,[6,45,73,1...|(11867,[6,45,73,1...|(11868,[6,45,73,1...|    [1.0,0.0,0.0]|       [1.0,0.0,0.0]|       0.0|\n",
      "|#CoronavirusPande...| Positive|   223|  1.0|[#coronaviruspand...|[#coronaviruspand...|(11867,[0,2,4,9,1...|(11867,[0,2,4,9,1...|(11868,[0,2,4,9,1...|   [0.0,27.0,0.0]|       [0.0,1.0,0.0]|       1.0|\n",
      "|#CoronavirusPande...| Positive|   218|  1.0|[#coronaviruspand...|[#coronaviruspand...|(11867,[1,2,5,13,...|(11867,[1,2,5,13,...|(11868,[1,2,5,13,...|   [0.0,72.0,0.0]|       [0.0,1.0,0.0]|       1.0|\n",
      "|#CoronavirusPande...| Positive|   302|  1.0|[#coronaviruspand...|[#coronaviruspand...|(11867,[0,1,16,19...|(11867,[0,1,16,19...|(11868,[0,1,16,19...|   [0.0,10.0,0.0]|       [0.0,1.0,0.0]|       1.0|\n",
      "|#Covid_19 All the...|  Neutral|   209|  2.0|[#covid_19, all, ...|[#covid_19, men, ...|(11867,[0,4,18,29...|(11867,[0,4,18,29...|(11868,[0,4,18,29...|   [0.0,11.0,0.0]|       [0.0,1.0,0.0]|       1.0|\n",
      "|#Covid_19 Third, ...| Negative|   263|  0.0|[#covid_19, third...|[#covid_19, third...|(11867,[0,16,19,4...|(11867,[0,16,19,4...|(11868,[0,16,19,4...|   [20.0,0.0,0.0]|       [1.0,0.0,0.0]|       0.0|\n",
      "|#Covid_19 is in t...| Positive|    65|  1.0|[#covid_19, is, i...|[#covid_19, way.,...|(11867,[0,19,1210...|(11867,[0,19,1210...|(11868,[0,19,1210...|  [0.0,10.0,63.0]|[0.0,0.1369863013...|       2.0|\n",
      "+--------------------+---------+------+-----+--------------------+--------------------+--------------------+--------------------+--------------------+-----------------+--------------------+----------+\n",
      "only showing top 20 rows\n",
      "\n"
     ]
    }
   ],
   "source": [
    "test_results=model.transform(testing)\n",
    "test_results.show()"
   ]
  },
  {
   "cell_type": "code",
   "execution_count": 181,
   "metadata": {
    "id": "3HbXfEfbRcNA"
   },
   "outputs": [],
   "source": [
    "acc_eval=MulticlassClassificationEvaluator()\n",
    "acc=acc_eval.evaluate(test_results)"
   ]
  },
  {
   "cell_type": "code",
   "execution_count": 182,
   "metadata": {
    "id": "HiO7sTGORcNA",
    "outputId": "9bebcc4c-97ea-4b1d-8d72-f62a9e732602"
   },
   "outputs": [
    {
     "name": "stdout",
     "output_type": "stream",
     "text": [
      "Accuracy of the model is:: 0.5258182243389363\n"
     ]
    }
   ],
   "source": [
    "print (\"Accuracy of the model is::\", acc)"
   ]
  },
  {
   "cell_type": "markdown",
   "metadata": {},
   "source": [
    "### Random Forest"
   ]
  },
  {
   "cell_type": "code",
   "execution_count": 217,
   "metadata": {
    "id": "Kx0_tdvXRcM-"
   },
   "outputs": [],
   "source": [
    "data_prep_pipeline= Pipeline(stages=[ham_samp_to_num, tokenizer, stopremove,count_vec, idf,clean_up, rf])"
   ]
  },
  {
   "cell_type": "code",
   "execution_count": 218,
   "metadata": {},
   "outputs": [
    {
     "data": {
      "text/plain": [
       "PipelineModel_10feb5616eaa"
      ]
     },
     "execution_count": 218,
     "metadata": {},
     "output_type": "execute_result"
    }
   ],
   "source": [
    "model = data_prep_pipeline.fit(training)\n",
    "model"
   ]
  },
  {
   "cell_type": "code",
   "execution_count": 219,
   "metadata": {},
   "outputs": [
    {
     "name": "stdout",
     "output_type": "stream",
     "text": [
      "+--------------------+---------+------+\n",
      "|       OriginalTweet|Sentiment|length|\n",
      "+--------------------+---------+------+\n",
      "|  We ve got sever...| Negative|   235|\n",
      "| Amazon Needs to ...| Negative|   203|\n",
      "+--------------------+---------+------+\n",
      "\n"
     ]
    }
   ],
   "source": [
    "dx = spark.createDataFrame(testing.take(2))\n",
    "dx.show()"
   ]
  },
  {
   "cell_type": "code",
   "execution_count": 220,
   "metadata": {
    "id": "SkIpNjoXRcM_"
   },
   "outputs": [],
   "source": [
    "test_results=model.transform(testing)"
   ]
  },
  {
   "cell_type": "code",
   "execution_count": 221,
   "metadata": {
    "id": "3w5Btr6dKrdp"
   },
   "outputs": [
    {
     "name": "stdout",
     "output_type": "stream",
     "text": [
      "+--------------------+---------+------+-----+--------------------+--------------------+--------------------+--------------------+--------------------+--------------------+--------------------+----------+\n",
      "|       OriginalTweet|Sentiment|length|label|          token_text|         stop_tokens|               c_vec|              tf_idf|            features|       rawPrediction|         probability|prediction|\n",
      "+--------------------+---------+------+-----+--------------------+--------------------+--------------------+--------------------+--------------------+--------------------+--------------------+----------+\n",
      "|  We ve got sever...| Negative|   235|  0.0|[, , we, ve, got,...|[, , ve, got, sev...|(11867,[2,3,24,37...|(11867,[2,3,24,37...|(11868,[2,3,24,37...|[92.0167193125639...|[0.46008359656281...|       0.0|\n",
      "| Amazon Needs to ...| Negative|   203|  0.0|[, amazon, needs,...|[, amazon, needs,...|(11867,[2,7,9,10,...|(11867,[2,7,9,10,...|(11868,[2,7,9,10,...|[87.0097154493838...|[0.43504857724691...|       0.0|\n",
      "|!!!!!!! French Pr...| Negative|   133|  0.0|[!!!!!!!, french,...|[!!!!!!!, french,...|(11867,[106,398,1...|(11867,[106,398,1...|(11868,[106,398,1...|[85.7885810915741...|[0.42894290545787...|       0.0|\n",
      "|\"@colemank83 offe...| Positive|   221|  1.0|[\"@colemank83, of...|[\"@colemank83, of...|(11867,[3,6,7,89,...|(11867,[3,6,7,89,...|(11868,[3,6,7,89,...|[89.0108600576830...|[0.44505430028841...|       0.0|\n",
      "|\"@yogagirlmab Ano...| Negative|   261|  0.0|[\"@yogagirlmab, a...|[\"@yogagirlmab, a...|(11867,[3,38,48,8...|(11867,[3,38,48,8...|(11868,[3,38,48,8...|[86.9822983568020...|[0.43491149178401...|       0.0|\n",
      "|\"Crowe's Gala in ...| Positive|   199|  1.0|[\"crowe's, gala, ...|[\"crowe's, gala, ...|(11867,[3,6,92,30...|(11867,[3,6,92,30...|(11868,[3,6,92,30...|[87.8708263226478...|[0.43935413161323...|       0.0|\n",
      "|\"For those of you...| Positive|   279|  1.0|[\"for, those, of,...|[\"for, think, cre...|(11867,[2,4,5,7,5...|(11867,[2,4,5,7,5...|(11868,[2,4,5,7,5...|[89.5020741979648...|[0.44751037098982...|       0.0|\n",
      "|\"I usually stock ...| Negative|   306|  0.0|[\"i, usually, sto...|[\"i, usually, sto...|(11867,[1,6,9,10,...|(11867,[1,6,9,10,...|(11868,[1,6,9,10,...|[87.1670553333558...|[0.43583527666677...|       0.0|\n",
      "|\"NO #toiletpaper ...| Negative|   264|  0.0|[\"no, #toiletpape...|[\"no, #toiletpape...|(11867,[2,4,5,8,2...|(11867,[2,4,5,8,2...|(11868,[2,4,5,8,2...|[86.6817549889327...|[0.43340877494466...|       0.0|\n",
      "|#BBCqt @MattHanco...|  Neutral|    70|  2.0|[#bbcqt, @matthan...|[#bbcqt, @matthan...|(11867,[0,12,3402...|(11867,[0,12,3402...|(11868,[0,12,3402...|[84.6139924217800...|[0.42306996210890...|       0.0|\n",
      "|#Coronavirus bori...| Negative|   225|  0.0|[#coronavirus, bo...|[#coronavirus, bo...|(11867,[1,3,7,11,...|(11867,[1,3,7,11,...|(11868,[1,3,7,11,...|[91.8160704341004...|[0.45908035217050...|       0.0|\n",
      "|#Coronavirus has ...| Positive|   277|  1.0|[#coronavirus, ha...|[#coronavirus, st...|(11867,[1,14,120,...|(11867,[1,14,120,...|(11868,[1,14,120,...|[86.2498240406990...|[0.43124912020349...|       0.0|\n",
      "|#Coronavirus, or ...| Positive|   137|  1.0|[#coronavirus,, o...|[#coronavirus,, c...|(11867,[245,376,3...|(11867,[245,376,3...|(11868,[245,376,3...|[85.7885810915741...|[0.42894290545787...|       0.0|\n",
      "|#Coronavirus: L.A...|  Neutral|   112|  2.0|[#coronavirus:, l...|[#coronavirus:, l...|(11867,[6,45,73,1...|(11867,[6,45,73,1...|(11868,[6,45,73,1...|[85.1354854291355...|[0.42567742714567...|       0.0|\n",
      "|#CoronavirusPande...| Positive|   223|  1.0|[#coronaviruspand...|[#coronaviruspand...|(11867,[0,2,4,9,1...|(11867,[0,2,4,9,1...|(11868,[0,2,4,9,1...|[84.2199057063261...|[0.42109952853163...|       1.0|\n",
      "|#CoronavirusPande...| Positive|   218|  1.0|[#coronaviruspand...|[#coronaviruspand...|(11867,[1,2,5,13,...|(11867,[1,2,5,13,...|(11868,[1,2,5,13,...|[85.6144149949031...|[0.42807207497451...|       0.0|\n",
      "|#CoronavirusPande...| Positive|   302|  1.0|[#coronaviruspand...|[#coronaviruspand...|(11867,[0,1,16,19...|(11867,[0,1,16,19...|(11868,[0,1,16,19...|[86.0334260451985...|[0.43016713022599...|       0.0|\n",
      "|#Covid_19 All the...|  Neutral|   209|  2.0|[#covid_19, all, ...|[#covid_19, men, ...|(11867,[0,4,18,29...|(11867,[0,4,18,29...|(11868,[0,4,18,29...|[86.3470635602270...|[0.43173531780113...|       0.0|\n",
      "|#Covid_19 Third, ...| Negative|   263|  0.0|[#covid_19, third...|[#covid_19, third...|(11867,[0,16,19,4...|(11867,[0,16,19,4...|(11868,[0,16,19,4...|[88.4252142255322...|[0.44212607112766...|       0.0|\n",
      "|#Covid_19 is in t...| Positive|    65|  1.0|[#covid_19, is, i...|[#covid_19, way.,...|(11867,[0,19,1210...|(11867,[0,19,1210...|(11868,[0,19,1210...|[84.6139924217800...|[0.42306996210890...|       0.0|\n",
      "+--------------------+---------+------+-----+--------------------+--------------------+--------------------+--------------------+--------------------+--------------------+--------------------+----------+\n",
      "only showing top 20 rows\n",
      "\n"
     ]
    }
   ],
   "source": [
    "test_results.show()"
   ]
  },
  {
   "cell_type": "code",
   "execution_count": 222,
   "metadata": {
    "id": "3HbXfEfbRcNA"
   },
   "outputs": [],
   "source": [
    "acc_eval=MulticlassClassificationEvaluator()\n",
    "acc=acc_eval.evaluate(test_results)"
   ]
  },
  {
   "cell_type": "code",
   "execution_count": 223,
   "metadata": {
    "id": "HiO7sTGORcNA",
    "outputId": "9bebcc4c-97ea-4b1d-8d72-f62a9e732602"
   },
   "outputs": [
    {
     "name": "stdout",
     "output_type": "stream",
     "text": [
      "Accuracy of the model is:: 0.3161533537953037\n"
     ]
    }
   ],
   "source": [
    "print (\"Accuracy of the model is::\", acc)"
   ]
  },
  {
   "cell_type": "code",
   "execution_count": null,
   "metadata": {},
   "outputs": [],
   "source": []
  }
 ],
 "metadata": {
  "colab": {
   "name": "Corona_NLP_Final.ipynb",
   "provenance": []
  },
  "kernelspec": {
   "display_name": "Python 3",
   "language": "python",
   "name": "python3"
  },
  "language_info": {
   "codemirror_mode": {
    "name": "ipython",
    "version": 3
   },
   "file_extension": ".py",
   "mimetype": "text/x-python",
   "name": "python",
   "nbconvert_exporter": "python",
   "pygments_lexer": "ipython3",
   "version": "3.7.3"
  }
 },
 "nbformat": 4,
 "nbformat_minor": 1
}
