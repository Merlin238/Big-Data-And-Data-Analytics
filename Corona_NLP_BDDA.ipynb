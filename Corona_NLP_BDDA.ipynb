{
 "cells": [
  {
   "cell_type": "markdown",
   "metadata": {
    "id": "yJZJuUuqRcM0"
   },
   "source": [
    "# Big Data and Data Analytics for Managers "
   ]
  },
  {
   "cell_type": "code",
   "execution_count": null,
   "metadata": {},
   "outputs": [],
   "source": [
    "Corona_NLP_BDDA.ipynb"
   ]
  },
  {
   "cell_type": "markdown",
   "metadata": {
    "id": "FPUzJXGZRcM2"
   },
   "source": [
    "## Merlin John - 015027"
   ]
  },
  {
   "cell_type": "markdown",
   "metadata": {
    "id": "J-tjUx1cRcM3"
   },
   "source": [
    "AIM- Perform Text Classification on Coronavirus tweets using Py spark\n"
   ]
  },
  {
   "cell_type": "markdown",
   "metadata": {
    "id": "r42HBYJfRcM4"
   },
   "source": [
    "Columns:\n",
    "\n",
    "1) Location\n",
    "2) Tweet At\n",
    "3) Original Tweet\n",
    "4) Label"
   ]
  },
  {
   "cell_type": "code",
   "execution_count": null,
   "metadata": {
    "colab": {
     "base_uri": "https://localhost:8080/"
    },
    "id": "0h2L0ljjRivj",
    "outputId": "48f90403-1761-494b-cf3f-d3fd7cc34927"
   },
   "outputs": [],
   "source": [
    "#!pip install pyspark"
   ]
  },
  {
   "cell_type": "code",
   "execution_count": null,
   "metadata": {
    "colab": {
     "base_uri": "https://localhost:8080/"
    },
    "id": "5bMyjckJH6ES",
    "outputId": "44c8bbfe-bc67-4c35-c555-6546fb5cd6f7"
   },
   "outputs": [],
   "source": [
    "#import os       #importing os to set environment variable\n",
    "#def install_java():\n",
    "#  !apt-get install -y openjdk-8-jdk-headless -qq > /dev/null      #install openjdk\n",
    "#  os.environ[\"JAVA_HOME\"] = \"/usr/lib/jvm/java-8-openjdk-amd64\"     #set environment variable\n",
    "#  !java -version       #check java version\n",
    "#install_java()"
   ]
  },
  {
   "cell_type": "code",
   "execution_count": 1,
   "metadata": {
    "id": "Dn_P6mFxRcM4"
   },
   "outputs": [],
   "source": [
    "#from pyspark.sql import SparkSession\n",
    "from pyspark.sql.functions import length,  regexp_replace\n",
    "from pyspark.ml.feature import Tokenizer, StopWordsRemover, CountVectorizer, IDF, StringIndexer,HashingTF\n",
    "from pyspark.ml.evaluation import MulticlassClassificationEvaluator\n",
    "from pyspark.ml.feature import VectorAssembler\n",
    "from pyspark.ml.classification import NaiveBayes, RandomForestClassifier, DecisionTreeClassifier\n",
    "from pyspark.ml import Pipeline"
   ]
  },
  {
   "cell_type": "code",
   "execution_count": null,
   "metadata": {
    "id": "Hrz_c6Kt2kBq"
   },
   "outputs": [],
   "source": [
    "#spark = SparkSession.builder \\\n",
    "#        .config(\"spark.driver.memory\",\"6G\")\\\n",
    "#        .config(\"spark.driver.maxResultSize\", \"4G\") \\\n",
    "#        .getOrCreate()"
   ]
  },
  {
   "cell_type": "code",
   "execution_count": null,
   "metadata": {
    "colab": {
     "base_uri": "https://localhost:8080/"
    },
    "id": "_Fk1gu7Qn3qZ",
    "outputId": "84bb34ed-b84e-4412-dacf-a1566cfeab0b"
   },
   "outputs": [],
   "source": [
    "#from google.colab import drive\n",
    "#drive.mount('/gdrive')"
   ]
  },
  {
   "cell_type": "code",
   "execution_count": null,
   "metadata": {
    "id": "o1Map62yoVQ7"
   },
   "outputs": [],
   "source": [
    "#path = \"/gdrive/MyDrive/Colab_data_files/corona_nlp/Corona_NLP_test.csv\"\n",
    "#data=spark.read.csv(path, header = True, inferSchema=True)"
   ]
  },
  {
   "cell_type": "code",
   "execution_count": null,
   "metadata": {},
   "outputs": [],
   "source": [
    "! hdfs dfs -mkdir -p /user/ashok/data_files/corona\n",
    "! hdfs dfs -put /home/ashok/Documents/corona_nlp_test.csv  /user/ashok/data_files/corona\n",
    "! hdfs dfs -ls /user/ashok/data_files/corona"
   ]
  },
  {
   "cell_type": "code",
   "execution_count": 2,
   "metadata": {},
   "outputs": [
    {
     "name": "stdout",
     "output_type": "stream",
     "text": [
      "put: `/user/ashok/data_files/corona/corona_nlp_test.csv': File exists\n",
      "Found 1 items\n",
      "-rw-r--r--   1 ashok supergroup    1002494 2021-11-12 14:41 /user/ashok/data_files/corona/corona_nlp_test.csv\n"
     ]
    }
   ],
   "source": [
    "! hdfs dfs -mkdir -p /user/ashok/data_files/corona\n",
    "! hdfs dfs -put /home/ashok/Downloads/corona_nlp_test.csv  /user/ashok/data_files/corona\n",
    "! hdfs dfs -ls /user/ashok/data_files/corona"
   ]
  },
  {
   "cell_type": "code",
   "execution_count": 3,
   "metadata": {
    "id": "bOmM8KuPD63s"
   },
   "outputs": [],
   "source": [
    "from IPython.core.interactiveshell import InteractiveShell\n",
    "InteractiveShell.ast_node_interactivity = \"all\"\n"
   ]
  },
  {
   "cell_type": "code",
   "execution_count": 224,
   "metadata": {},
   "outputs": [],
   "source": [
    "path = \"/user/ashok/data_files/corona/corona_nlp_test.csv\"\n",
    "data=spark.read.csv(path, header = True, multiLine = True, inferSchema=True)"
   ]
  },
  {
   "cell_type": "code",
   "execution_count": 225,
   "metadata": {
    "colab": {
     "base_uri": "https://localhost:8080/"
    },
    "id": "-O2qutCPRcM5",
    "outputId": "3f4cc5be-1bdf-463c-c7e8-0ac2576f0f88"
   },
   "outputs": [
    {
     "name": "stdout",
     "output_type": "stream",
     "text": [
      "+--------------------+--------------------+--------------------+----------+--------------------+--------------------+\n",
      "|            UserName|          ScreenName|            Location|   TweetAt|       OriginalTweet|           Sentiment|\n",
      "+--------------------+--------------------+--------------------+----------+--------------------+--------------------+\n",
      "|                   1|               44953|                 NYC|02-03-2020|TRENDING: New Yor...|  Extremely Negative|\n",
      "|                   2|               44954|         Seattle, WA|02-03-2020|When I couldn't f...|            Positive|\n",
      "|                   3|               44955|                null|02-03-2020|Find out how you ...|  Extremely Positive|\n",
      "|                   4|               44956|         Chicagoland|02-03-2020|#Panic buying hit...|            Negative|\n",
      "|                   5|               44957| Melbourne, Victoria|03-03-2020|#toiletpaper #dun...|             Neutral|\n",
      "|                   6|               44958|         Los Angeles|03-03-2020|Do you remember t...|             Neutral|\n",
      "|                   7|               44959|                null|03-03-2020|Voting in the age...|            Positive|\n",
      "|                   8|               44960| Geneva, Switzerland|03-03-2020|\"@DrTedros \"\"We c...|                null|\n",
      "|Prices of surgica...| N95 respirators ...|             Neutral|      null|                null|                null|\n",
      "|                   9|               44961|                null|04-03-2020|HI TWITTER! I am ...|  Extremely Negative|\n",
      "|                  10|               44962|     Dublin, Ireland|04-03-2020|Anyone been in a ...|  Extremely Positive|\n",
      "|                  11|               44963|Boksburg, South A...|04-03-2020|Best quality couc...|            Positive|\n",
      "|                  12|               44964|           New Delhi|04-03-2020|Beware of counter...|  Extremely Negative|\n",
      "|                  13|               44965|             USA, PA|04-03-2020|\"Panic food buyin...| taken from the w...|\n",
      "|                   \r",
      "|                null|                null|      null|                null|                null|\n",
      "|https://t.co/aYQt...|  Extremely Negative|                null|      null|                null|                null|\n",
      "|                  14|               44966|                null|04-03-2020|#Covid_19 Went to...|  Extremely Positive|\n",
      "|                  15|               44967|      Washington, DC|04-03-2020|While we were bus...|            Positive|\n",
      "|                  16|               44968|          Bengaluru |04-03-2020|#AirSewa \r\n",
      "\r\n",
      "@fly...|  Extremely Negative|\n",
      "|                  17|               44969|              Mumbai|05-03-2020|What Precautionar...|  Extremely Positive|\n",
      "+--------------------+--------------------+--------------------+----------+--------------------+--------------------+\n",
      "only showing top 20 rows\n",
      "\n",
      "root\n",
      " |-- UserName: string (nullable = true)\n",
      " |-- ScreenName: string (nullable = true)\n",
      " |-- Location: string (nullable = true)\n",
      " |-- TweetAt: string (nullable = true)\n",
      " |-- OriginalTweet: string (nullable = true)\n",
      " |-- Sentiment: string (nullable = true)\n",
      "\n"
     ]
    }
   ],
   "source": [
    "data.show()\n",
    "data.printSchema()"
   ]
  },
  {
   "cell_type": "code",
   "execution_count": 226,
   "metadata": {
    "colab": {
     "base_uri": "https://localhost:8080/"
    },
    "id": "nPhwjyhYRcM6",
    "outputId": "bdeab974-3084-44bf-c0ec-a6b79f779789"
   },
   "outputs": [
    {
     "name": "stdout",
     "output_type": "stream",
     "text": [
      "+-------+--------------------+--------------------+--------------------+----------+--------------------+--------------------+\n",
      "|summary|            UserName|          ScreenName|            Location|   TweetAt|       OriginalTweet|           Sentiment|\n",
      "+-------+--------------------+--------------------+--------------------+----------+--------------------+--------------------+\n",
      "|  count|                3980|                3871|                2972|      3799|                3798|                3756|\n",
      "|   mean|              1899.5|             46851.5|      18701.33203125|      null|                null|                null|\n",
      "| stddev|  1096.5324892587541|  1096.5324892587541|   35944.79054752188|      null|                null|                null|\n",
      "|    min|                   \r",
      "| N95 respirators ...|                    |02-03-2020|  We ve got sever...| \"\"buy tinned foo...|\n",
      "|    max|She hoped to sta...|            Positive|ÜT: 44.881667,-93...|  Negative| Distance Learni...|            Positive|\n",
      "+-------+--------------------+--------------------+--------------------+----------+--------------------+--------------------+\n",
      "\n"
     ]
    }
   ],
   "source": [
    "data.describe().show()"
   ]
  },
  {
   "cell_type": "markdown",
   "metadata": {
    "id": "Awp8esGGRcM6"
   },
   "source": [
    "# Data Prepration"
   ]
  },
  {
   "cell_type": "code",
   "execution_count": 227,
   "metadata": {
    "colab": {
     "base_uri": "https://localhost:8080/"
    },
    "id": "q-U_3DG0RcM6",
    "outputId": "757697b4-a6e4-420c-d6fa-52317785404e",
    "scrolled": true
   },
   "outputs": [
    {
     "name": "stdout",
     "output_type": "stream",
     "text": [
      "+--------------------+-----+\n",
      "|            Location|count|\n",
      "+--------------------+-----+\n",
      "|ÜT: 44.881667,-93...|    1|\n",
      "|ÜT: 43.661815,-79...|    1|\n",
      "|ÜT: 43.64624,-79....|    1|\n",
      "|ÜT: 40.725815,-74...|    1|\n",
      "|ÜT: 40.5896566,-7...|    1|\n",
      "|ÜT: 3.099457,101....|    1|\n",
      "|ÜT: 28.508488,-81...|    1|\n",
      "| ~ JHB, South Africa|    1|\n",
      "|    www.303Gonzo.com|    1|\n",
      "|       world citizen|    1|\n",
      "+--------------------+-----+\n",
      "only showing top 10 rows\n",
      "\n"
     ]
    }
   ],
   "source": [
    "result_df = data.groupBy(\"Location\").count().sort(\"Location\", ascending=False)\n",
    "result_df.show(10)"
   ]
  },
  {
   "cell_type": "code",
   "execution_count": 228,
   "metadata": {
    "colab": {
     "base_uri": "https://localhost:8080/"
    },
    "id": "MjcCCK3oRcM7",
    "outputId": "28d34a9a-73c3-485f-97f0-d39deac2543d"
   },
   "outputs": [
    {
     "name": "stdout",
     "output_type": "stream",
     "text": [
      "+--------------------+--------------------+-------------------+----------+--------------------+------------------+------+\n",
      "|            UserName|          ScreenName|           Location|   TweetAt|       OriginalTweet|         Sentiment|length|\n",
      "+--------------------+--------------------+-------------------+----------+--------------------+------------------+------+\n",
      "|                   1|               44953|                NYC|02-03-2020|TRENDING: New Yor...|Extremely Negative|   228|\n",
      "|                   2|               44954|        Seattle, WA|02-03-2020|When I couldn't f...|          Positive|   193|\n",
      "|                   3|               44955|               null|02-03-2020|Find out how you ...|Extremely Positive|    73|\n",
      "|                   4|               44956|        Chicagoland|02-03-2020|#Panic buying hit...|          Negative|   313|\n",
      "|                   5|               44957|Melbourne, Victoria|03-03-2020|#toiletpaper #dun...|           Neutral|   252|\n",
      "|                   6|               44958|        Los Angeles|03-03-2020|Do you remember t...|           Neutral|   205|\n",
      "|                   7|               44959|               null|03-03-2020|Voting in the age...|          Positive|    90|\n",
      "|                   8|               44960|Geneva, Switzerland|03-03-2020|\"@DrTedros \"\"We c...|              null|    71|\n",
      "|Prices of surgica...| N95 respirators ...|            Neutral|      null|                null|              null|  null|\n",
      "|                   9|               44961|               null|04-03-2020|HI TWITTER! I am ...|Extremely Negative|   280|\n",
      "+--------------------+--------------------+-------------------+----------+--------------------+------------------+------+\n",
      "only showing top 10 rows\n",
      "\n"
     ]
    }
   ],
   "source": [
    "data=data.withColumn('length', length(data['OriginalTweet']))\n",
    "data.show(10)"
   ]
  },
  {
   "cell_type": "code",
   "execution_count": 229,
   "metadata": {
    "colab": {
     "base_uri": "https://localhost:8080/"
    },
    "id": "Y14lk3m2AV43",
    "outputId": "b60d440c-cb0d-44a0-ec66-85bf650df41a"
   },
   "outputs": [
    {
     "name": "stdout",
     "output_type": "stream",
     "text": [
      "+--------------------+---------+------+\n",
      "|       OriginalTweet|Sentiment|length|\n",
      "+--------------------+---------+------+\n",
      "|#Panic buying hit...| Negative|   313|\n",
      "|#CoronaVirus #COV...| Negative|   284|\n",
      "|When your usual g...| Negative|   201|\n",
      "|Coronavirus panic...| Negative|   285|\n",
      "|While you are sto...| Negative|   250|\n",
      "|Two important pho...| Negative|   271|\n",
      "|Fellow Uni instru...| Negative|   274|\n",
      "|1/25 Part 1 - Why...| Negative|   300|\n",
      "|So far 36 Pennsyl...| Negative|   265|\n",
      "|Ignore online off...| Negative|   306|\n",
      "+--------------------+---------+------+\n",
      "only showing top 10 rows\n",
      "\n"
     ]
    }
   ],
   "source": [
    "data=data.drop(\"UserName\",\"ScreenName\",\"Location\",\"TweetAt\")\n",
    "data.filter(data[\"Sentiment\"]==\"Negative\").show(10)"
   ]
  },
  {
   "cell_type": "code",
   "execution_count": 230,
   "metadata": {
    "colab": {
     "base_uri": "https://localhost:8080/"
    },
    "id": "DIu-i0t3RcM8",
    "outputId": "52b8dc22-ba36-4a24-fb29-bee584c7a2fc"
   },
   "outputs": [
    {
     "name": "stdout",
     "output_type": "stream",
     "text": [
      "+--------------------+--------------------+------+\n",
      "|       OriginalTweet|           Sentiment|length|\n",
      "+--------------------+--------------------+------+\n",
      "|TRENDING: New Yor...|  Extremely Negative|   228|\n",
      "|When I couldn't f...|            Positive|   193|\n",
      "|Find out how you ...|  Extremely Positive|    73|\n",
      "|#Panic buying hit...|            Negative|   313|\n",
      "|#toiletpaper #dun...|             Neutral|   252|\n",
      "|Do you remember t...|             Neutral|   205|\n",
      "|Voting in the age...|            Positive|    90|\n",
      "|HI TWITTER! I am ...|  Extremely Negative|   280|\n",
      "|Anyone been in a ...|  Extremely Positive|   238|\n",
      "|Best quality couc...|            Positive|   224|\n",
      "|Beware of counter...|  Extremely Negative|   240|\n",
      "|\"Panic food buyin...| taken from the w...|   179|\n",
      "|#Covid_19 Went to...|  Extremely Positive|   280|\n",
      "|While we were bus...|            Positive|   197|\n",
      "|#AirSewa \r\n",
      "\r\n",
      "@fly...|  Extremely Negative|   287|\n",
      "|What Precautionar...|  Extremely Positive|   246|\n",
      "|When youre stock...|             Neutral|   187|\n",
      "|That's about a we...|            Positive|   239|\n",
      "|Studies show the ...|  Extremely Positive|   272|\n",
      "|#CoronaVirus #COV...|            Negative|   284|\n",
      "+--------------------+--------------------+------+\n",
      "only showing top 20 rows\n",
      "\n"
     ]
    }
   ],
   "source": [
    "data = data.na.drop()\n",
    "data.show()"
   ]
  },
  {
   "cell_type": "code",
   "execution_count": 231,
   "metadata": {},
   "outputs": [
    {
     "name": "stdout",
     "output_type": "stream",
     "text": [
      "+--------------------+------------------+------+\n",
      "|       OriginalTweet|         Sentiment|length|\n",
      "+--------------------+------------------+------+\n",
      "|TRENDING: New Yor...|Extremely Negative|   228|\n",
      "|When I couldn't f...|          Positive|   193|\n",
      "|Find out how you ...|Extremely Positive|    73|\n",
      "|#Panic buying hit...|          Negative|   313|\n",
      "|#toiletpaper #dun...|           Neutral|   252|\n",
      "|Do you remember t...|           Neutral|   205|\n",
      "|Voting in the age...|          Positive|    90|\n",
      "|HI TWITTER! I am ...|Extremely Negative|   280|\n",
      "|Anyone been in a ...|Extremely Positive|   238|\n",
      "|Best quality couc...|          Positive|   224|\n",
      "|Beware of counter...|Extremely Negative|   240|\n",
      "|#Covid_19 Went to...|Extremely Positive|   280|\n",
      "|While we were bus...|          Positive|   197|\n",
      "|#AirSewa \r\n",
      "\r\n",
      "@fly...|Extremely Negative|   287|\n",
      "|What Precautionar...|Extremely Positive|   246|\n",
      "|When youre stock...|           Neutral|   187|\n",
      "|That's about a we...|          Positive|   239|\n",
      "|Studies show the ...|Extremely Positive|   272|\n",
      "|#CoronaVirus #COV...|          Negative|   284|\n",
      "|\"For those of you...|Extremely Positive|   279|\n",
      "+--------------------+------------------+------+\n",
      "only showing top 20 rows\n",
      "\n"
     ]
    }
   ],
   "source": [
    "data = data.filter(\"Sentiment == 'Neutral' OR Sentiment == 'Negative' OR Sentiment == 'Positive' OR Sentiment == 'Extremely Negative' OR Sentiment == 'Extremely Positive'\")\n",
    "data.show()"
   ]
  },
  {
   "cell_type": "code",
   "execution_count": 232,
   "metadata": {},
   "outputs": [],
   "source": [
    "data = data.withColumn('Sentiment', regexp_replace('Sentiment', 'Extremely Negative', 'Negative'))\n",
    "data = data.withColumn('Sentiment', regexp_replace('Sentiment', 'Extremely Positive', 'Positive'))"
   ]
  },
  {
   "cell_type": "code",
   "execution_count": 233,
   "metadata": {},
   "outputs": [
    {
     "name": "stdout",
     "output_type": "stream",
     "text": [
      "+--------------------+---------+------+\n",
      "|       OriginalTweet|Sentiment|length|\n",
      "+--------------------+---------+------+\n",
      "|TRENDING: New Yor...| Negative|   228|\n",
      "|When I couldn't f...| Positive|   193|\n",
      "|Find out how you ...| Positive|    73|\n",
      "|#Panic buying hit...| Negative|   313|\n",
      "|#toiletpaper #dun...|  Neutral|   252|\n",
      "|Do you remember t...|  Neutral|   205|\n",
      "|Voting in the age...| Positive|    90|\n",
      "|HI TWITTER! I am ...| Negative|   280|\n",
      "|Anyone been in a ...| Positive|   238|\n",
      "|Best quality couc...| Positive|   224|\n",
      "|Beware of counter...| Negative|   240|\n",
      "|#Covid_19 Went to...| Positive|   280|\n",
      "|While we were bus...| Positive|   197|\n",
      "|#AirSewa \r\n",
      "\r\n",
      "@fly...| Negative|   287|\n",
      "|What Precautionar...| Positive|   246|\n",
      "|When youre stock...|  Neutral|   187|\n",
      "|That's about a we...| Positive|   239|\n",
      "|Studies show the ...| Positive|   272|\n",
      "|#CoronaVirus #COV...| Negative|   284|\n",
      "|\"For those of you...| Positive|   279|\n",
      "+--------------------+---------+------+\n",
      "only showing top 20 rows\n",
      "\n"
     ]
    }
   ],
   "source": [
    "data.show()"
   ]
  },
  {
   "cell_type": "markdown",
   "metadata": {
    "id": "THsGLjFtRcM8"
   },
   "source": [
    "# Features Transformation"
   ]
  },
  {
   "cell_type": "code",
   "execution_count": 234,
   "metadata": {
    "id": "D0OxTTsCqQwy"
   },
   "outputs": [],
   "source": [
    "tokenizer=Tokenizer(inputCol=\"OriginalTweet\", outputCol=\"token_text\")\n",
    "stopremove=StopWordsRemover(inputCol=\"token_text\", outputCol=\"stop_tokens\")\n",
    "count_vec=CountVectorizer(inputCol=\"stop_tokens\", outputCol=\"c_vec\")\n",
    "#hashingTF = HashingTF(inputCol=\"stop_tokens\", outputCol=\"c_vec\", numFeatures=5000)\n",
    "idf=IDF(inputCol=\"c_vec\", outputCol=\"tf_idf\")\n",
    "# we also need to convert our labels in numbers\n",
    "ham_samp_to_num = StringIndexer(inputCol=\"Sentiment\", outputCol='label')\n",
    "clean_up = VectorAssembler(inputCols=['tf_idf','length'], outputCol='features')"
   ]
  },
  {
   "cell_type": "markdown",
   "metadata": {
    "id": "3yiw5A4oRcM9"
   },
   "source": [
    "# Model"
   ]
  },
  {
   "cell_type": "code",
   "execution_count": 235,
   "metadata": {
    "id": "m9nIxjNARcM9"
   },
   "outputs": [],
   "source": [
    "dtc=DecisionTreeClassifier(maxDepth=30)\n",
    "rf=RandomForestClassifier(numTrees=200)\n",
    "nb=NaiveBayes()"
   ]
  },
  {
   "cell_type": "markdown",
   "metadata": {
    "id": "ZJTW5K8rRcM9"
   },
   "source": [
    "# Pipeline"
   ]
  },
  {
   "cell_type": "code",
   "execution_count": 236,
   "metadata": {
    "id": "Kx0_tdvXRcM-"
   },
   "outputs": [],
   "source": [
    "data_prep_pipeline= Pipeline(stages=[ham_samp_to_num, tokenizer, stopremove,count_vec, idf,clean_up, nb])"
   ]
  },
  {
   "cell_type": "code",
   "execution_count": 237,
   "metadata": {},
   "outputs": [
    {
     "name": "stdout",
     "output_type": "stream",
     "text": [
      "+--------------------+---------+------+\n",
      "|       OriginalTweet|Sentiment|length|\n",
      "+--------------------+---------+------+\n",
      "|TRENDING: New Yor...| Negative|   228|\n",
      "|When I couldn't f...| Positive|   193|\n",
      "|Find out how you ...| Positive|    73|\n",
      "|#Panic buying hit...| Negative|   313|\n",
      "|#toiletpaper #dun...|  Neutral|   252|\n",
      "|Do you remember t...|  Neutral|   205|\n",
      "|Voting in the age...| Positive|    90|\n",
      "|HI TWITTER! I am ...| Negative|   280|\n",
      "|Anyone been in a ...| Positive|   238|\n",
      "|Best quality couc...| Positive|   224|\n",
      "|Beware of counter...| Negative|   240|\n",
      "|#Covid_19 Went to...| Positive|   280|\n",
      "|While we were bus...| Positive|   197|\n",
      "|#AirSewa \r\n",
      "\r\n",
      "@fly...| Negative|   287|\n",
      "|What Precautionar...| Positive|   246|\n",
      "|When youre stock...|  Neutral|   187|\n",
      "|That's about a we...| Positive|   239|\n",
      "|Studies show the ...| Positive|   272|\n",
      "|#CoronaVirus #COV...| Negative|   284|\n",
      "|\"For those of you...| Positive|   279|\n",
      "+--------------------+---------+------+\n",
      "only showing top 20 rows\n",
      "\n"
     ]
    }
   ],
   "source": [
    "data.show()"
   ]
  },
  {
   "cell_type": "code",
   "execution_count": 238,
   "metadata": {
    "id": "BdNSvfVYCkVD"
   },
   "outputs": [],
   "source": [
    "(training, testing)= data.randomSplit([0.8,0.2])"
   ]
  },
  {
   "cell_type": "code",
   "execution_count": 239,
   "metadata": {},
   "outputs": [
    {
     "name": "stdout",
     "output_type": "stream",
     "text": [
      "+--------------------+---------+------+\n",
      "|       OriginalTweet|Sentiment|length|\n",
      "+--------------------+---------+------+\n",
      "| Food poverty doe...| Negative|   225|\n",
      "| There is enough ...|  Neutral|    97|\n",
      "| This is the best...| Positive|   181|\n",
      "|\"\"\"Current estima...|  Neutral|   138|\n",
      "|\"#BREAKING: Ontar...| Negative|   250|\n",
      "|\"#Covid_19 #Hamst...| Positive|   207|\n",
      "|\"?? Starbucks may...| Positive|   127|\n",
      "|\"@ABC7 #abc7eyewi...| Negative|   258|\n",
      "|\"@AskTarget \"\"cor...| Positive|   244|\n",
      "|\"@Ryanair is at i...| Positive|   259|\n",
      "|\"@colemank83 offe...| Positive|   221|\n",
      "|\"@iamshafaatali I...| Negative|   259|\n",
      "|\"@phineashead @Bo...| Negative|   259|\n",
      "|\"@quietplacemovie...| Positive|   245|\n",
      "|\"Amazon blocks th...| Negative|   251|\n",
      "|\"Apparently Chest...| Positive|   174|\n",
      "|\"Are we still all...| Positive|   168|\n",
      "|\"BJP MP Subramani...|  Neutral|   164|\n",
      "|\"Be like my girlf...| Positive|   277|\n",
      "|\"COVID-19 UPDATE:...| Positive|   241|\n",
      "+--------------------+---------+------+\n",
      "only showing top 20 rows\n",
      "\n"
     ]
    }
   ],
   "source": [
    "training.show()"
   ]
  },
  {
   "cell_type": "code",
   "execution_count": 240,
   "metadata": {},
   "outputs": [
    {
     "name": "stdout",
     "output_type": "stream",
     "text": [
      "+--------------------+---------+------+\n",
      "|       OriginalTweet|Sentiment|length|\n",
      "+--------------------+---------+------+\n",
      "|  We ve got sever...| Negative|   235|\n",
      "| Amazon Needs to ...| Negative|   203|\n",
      "|!!!!!!! French Pr...| Negative|   133|\n",
      "|\"#Airbnb some hos...| Negative|   287|\n",
      "|\"2 Weeks #Lockdow...|  Neutral|   307|\n",
      "|\"@yogagirlmab Ano...| Negative|   261|\n",
      "|\"A \"\"consumer rem...| Positive|   259|\n",
      "|\"A friendly remin...| Positive|   271|\n",
      "|\"For those of you...| Positive|   279|\n",
      "|\"Our latest repor...| Negative|   178|\n",
      "|#Americans stock ...|  Neutral|    94|\n",
      "|#BBCqt @MattHanco...|  Neutral|    70|\n",
      "|#COVID 19 VIRUS. ...| Negative|   280|\n",
      "|#COVID19 is creat...| Negative|   307|\n",
      "|#COVID19 pandemic...|  Neutral|   186|\n",
      "|#COVID_19 fallout...| Negative|   206|\n",
      "|#Colombo looks li...| Positive|   241|\n",
      "|#Coronavirus #ori...| Positive|   262|\n",
      "|#Coronavirus got ...| Negative|   277|\n",
      "|#Coronavirus shif...|  Neutral|   106|\n",
      "+--------------------+---------+------+\n",
      "only showing top 20 rows\n",
      "\n"
     ]
    }
   ],
   "source": [
    "testing.show()"
   ]
  },
  {
   "cell_type": "code",
   "execution_count": 241,
   "metadata": {
    "id": "TLAgJ08s4FwP"
   },
   "outputs": [
    {
     "name": "stdout",
     "output_type": "stream",
     "text": [
      "CPU times: user 42.1 ms, sys: 14 ms, total: 56.1 ms\n",
      "Wall time: 3.26 s\n"
     ]
    }
   ],
   "source": [
    "%%time\n",
    "model = data_prep_pipeline.fit(training)"
   ]
  },
  {
   "cell_type": "code",
   "execution_count": 242,
   "metadata": {
    "colab": {
     "base_uri": "https://localhost:8080/"
    },
    "id": "fUGhYVTLFUIt",
    "outputId": "843f376a-757e-46ae-f459-557120fc38b2"
   },
   "outputs": [
    {
     "data": {
      "text/plain": [
       "PipelineModel_7f7a7604dcdb"
      ]
     },
     "execution_count": 242,
     "metadata": {},
     "output_type": "execute_result"
    }
   ],
   "source": [
    "model"
   ]
  },
  {
   "cell_type": "markdown",
   "metadata": {},
   "source": [
    "### Naive Bayes"
   ]
  },
  {
   "cell_type": "code",
   "execution_count": 243,
   "metadata": {
    "id": "B4qj-wB4FdT7"
   },
   "outputs": [],
   "source": [
    "dx = spark.createDataFrame(testing.take(2))"
   ]
  },
  {
   "cell_type": "code",
   "execution_count": 244,
   "metadata": {
    "colab": {
     "base_uri": "https://localhost:8080/"
    },
    "id": "q42HnHSqFwKa",
    "outputId": "428d80dc-befe-4c08-a176-c60bc5bb39cf"
   },
   "outputs": [
    {
     "name": "stdout",
     "output_type": "stream",
     "text": [
      "+--------------------+---------+------+\n",
      "|       OriginalTweet|Sentiment|length|\n",
      "+--------------------+---------+------+\n",
      "|  We ve got sever...| Negative|   235|\n",
      "| Amazon Needs to ...| Negative|   203|\n",
      "+--------------------+---------+------+\n",
      "\n"
     ]
    }
   ],
   "source": [
    "dx.show()"
   ]
  },
  {
   "cell_type": "code",
   "execution_count": 245,
   "metadata": {
    "id": "SkIpNjoXRcM_"
   },
   "outputs": [],
   "source": [
    "test_results=model.transform(testing)"
   ]
  },
  {
   "cell_type": "code",
   "execution_count": 246,
   "metadata": {
    "id": "3w5Btr6dKrdp"
   },
   "outputs": [
    {
     "name": "stdout",
     "output_type": "stream",
     "text": [
      "+--------------------+---------+------+-----+--------------------+--------------------+--------------------+--------------------+--------------------+--------------------+--------------------+----------+\n",
      "|       OriginalTweet|Sentiment|length|label|          token_text|         stop_tokens|               c_vec|              tf_idf|            features|       rawPrediction|         probability|prediction|\n",
      "+--------------------+---------+------+-----+--------------------+--------------------+--------------------+--------------------+--------------------+--------------------+--------------------+----------+\n",
      "|  We ve got sever...| Negative|   235|  0.0|[, , we, ve, got,...|[, , ve, got, sev...|(16792,[0,3,25,55...|(16792,[0,3,25,55...|(16793,[0,3,25,55...|[-1138.8170530833...|[0.99999999999898...|       0.0|\n",
      "| Amazon Needs to ...| Negative|   203|  0.0|[, amazon, needs,...|[, amazon, needs,...|(16792,[0,7,9,10,...|(16792,[0,7,9,10,...|(16793,[0,7,9,10,...|[-1180.2882613284...|[5.19487492077371...|       2.0|\n",
      "|!!!!!!! French Pr...| Negative|   133|  0.0|[!!!!!!!, french,...|[!!!!!!!, french,...|(16792,[103,618,6...|(16792,[103,618,6...|(16793,[103,618,6...|[-547.90978894748...|[1.0,7.8023996298...|       0.0|\n",
      "|\"#Airbnb some hos...| Negative|   287|  0.0|[\"#airbnb, some, ...|[\"#airbnb, hosts,...|(16792,[0,1,8,60,...|(16792,[0,1,8,60,...|(16793,[0,1,8,60,...|[-1430.9097186504...|[0.99999331339321...|       0.0|\n",
      "|\"2 Weeks #Lockdow...|  Neutral|   307|  2.0|[\"2, weeks, #lock...|[\"2, weeks, #lock...|(16792,[2,8,18,21...|(16792,[2,8,18,21...|(16793,[2,8,18,21...|[-708.39832127786...|[9.86755419561802...|       1.0|\n",
      "|\"@yogagirlmab Ano...| Negative|   261|  0.0|[\"@yogagirlmab, a...|[\"@yogagirlmab, a...|(16792,[3,18,38,8...|(16792,[3,18,38,8...|(16793,[3,18,38,8...|[-934.99857985059...|[1.21388905335480...|       1.0|\n",
      "|\"A \"\"consumer rem...| Positive|   259|  1.0|[\"a, \"\"consumer, ...|[\"a, \"\"consumer, ...|(16792,[1,16,24,3...|(16792,[1,16,24,3...|(16793,[1,16,24,3...|[-979.78622383359...|[4.59587131401114...|       1.0|\n",
      "|\"A friendly remin...| Positive|   271|  1.0|[\"a, friendly, re...|[\"a, friendly, re...|(16792,[0,3,6,13,...|(16792,[0,3,6,13,...|(16793,[0,3,6,13,...|[-1206.3367043300...|[4.80044720678825...|       1.0|\n",
      "|\"For those of you...| Positive|   279|  1.0|[\"for, those, of,...|[\"for, think, cre...|(16792,[0,4,5,7,5...|(16792,[0,4,5,7,5...|(16793,[0,4,5,7,5...|[-783.60998843319...|[1.51539457435881...|       1.0|\n",
      "|\"Our latest repor...| Negative|   178|  0.0|[\"our, latest, re...|[\"our, latest, re...|(16792,[9,10,36,3...|(16792,[9,10,36,3...|(16793,[9,10,36,3...|[-661.70472397283...|[0.00224257090738...|       2.0|\n",
      "|#Americans stock ...|  Neutral|    94|  2.0|[#americans, stoc...|[#americans, stoc...|(16792,[6,297,388...|(16792,[6,297,388...|(16793,[6,297,388...|[-292.66861971342...|[8.04098805885722...|       1.0|\n",
      "|#BBCqt @MattHanco...|  Neutral|    70|  2.0|[#bbcqt, @matthan...|[#bbcqt, @matthan...|(16792,[1,11,3640...|(16792,[1,11,3640...|(16793,[1,11,3640...|[-214.74631705900...|[0.53771857838490...|       0.0|\n",
      "|#COVID 19 VIRUS. ...| Negative|   280|  0.0|[#covid, 19, viru...|[#covid, 19, viru...|(16792,[0,6,39,45...|(16792,[0,6,39,45...|(16793,[0,6,39,45...|[-1291.1765072834...|[1.0,2.8751135377...|       0.0|\n",
      "|#COVID19 is creat...| Negative|   307|  0.0|[#covid19, is, cr...|[#covid19, creati...|(16792,[3,8,9,12,...|(16792,[3,8,9,12,...|(16793,[3,8,9,12,...|[-1356.9919271501...|[1.17937027512783...|       1.0|\n",
      "|#COVID19 pandemic...|  Neutral|   186|  2.0|[#covid19, pandem...|[#covid19, pandem...|(16792,[0,2,21,28...|(16792,[0,2,21,28...|(16793,[0,2,21,28...|[-490.17664664658...|[0.32285712839709...|       1.0|\n",
      "|#COVID_19 fallout...| Negative|   206|  0.0|[#covid_19, fallo...|[#covid_19, fallo...|(16792,[1,9,10,20...|(16792,[1,9,10,20...|(16793,[1,9,10,20...|[-749.07829666669...|[0.99999876442023...|       0.0|\n",
      "|#Colombo looks li...| Positive|   241|  1.0|[#colombo, looks,...|[#colombo, looks,...|(16792,[0,1,11,12...|(16792,[0,1,11,12...|(16793,[0,1,11,12...|[-1121.2046843779...|[4.24492249107999...|       1.0|\n",
      "|#Coronavirus #ori...| Positive|   262|  1.0|[#coronavirus, #o...|[#coronavirus, #o...|(16792,[0,2,9,10,...|(16792,[0,2,9,10,...|(16793,[0,2,9,10,...|[-1253.8759937872...|[2.45704022252320...|       1.0|\n",
      "|#Coronavirus got ...| Negative|   277|  0.0|[#coronavirus, go...|[#coronavirus, go...|(16792,[0,2,4,14,...|(16792,[0,2,4,14,...|(16793,[0,2,4,14,...|[-980.33032780190...|[0.99999949324807...|       0.0|\n",
      "|#Coronavirus shif...|  Neutral|   106|  2.0|[#coronavirus, sh...|[#coronavirus, sh...|(16792,[0,2,9,10,...|(16792,[0,2,9,10,...|(16793,[0,2,9,10,...|[-334.02003277149...|[2.62541611392136...|       2.0|\n",
      "+--------------------+---------+------+-----+--------------------+--------------------+--------------------+--------------------+--------------------+--------------------+--------------------+----------+\n",
      "only showing top 20 rows\n",
      "\n"
     ]
    }
   ],
   "source": [
    "test_results.show()"
   ]
  },
  {
   "cell_type": "code",
   "execution_count": 247,
   "metadata": {
    "id": "3HbXfEfbRcNA"
   },
   "outputs": [],
   "source": [
    "acc_eval=MulticlassClassificationEvaluator()\n",
    "acc=acc_eval.evaluate(test_results)"
   ]
  },
  {
   "cell_type": "code",
   "execution_count": 248,
   "metadata": {
    "id": "HiO7sTGORcNA",
    "outputId": "9bebcc4c-97ea-4b1d-8d72-f62a9e732602"
   },
   "outputs": [
    {
     "name": "stdout",
     "output_type": "stream",
     "text": [
      "Accuracy of the model is:: 0.5588572411186848\n"
     ]
    }
   ],
   "source": [
    "print (\"Accuracy of the model is::\", acc)"
   ]
  },
  {
   "cell_type": "markdown",
   "metadata": {
    "id": "DunK4rFLRcM_"
   },
   "source": [
    "### Decision Tree Classifier"
   ]
  },
  {
   "cell_type": "code",
   "execution_count": 249,
   "metadata": {
    "id": "Kx0_tdvXRcM-"
   },
   "outputs": [],
   "source": [
    "data_prep_pipeline= Pipeline(stages=[ham_samp_to_num, tokenizer, stopremove,count_vec, idf,clean_up, dtc])"
   ]
  },
  {
   "cell_type": "code",
   "execution_count": 250,
   "metadata": {},
   "outputs": [
    {
     "data": {
      "text/plain": [
       "PipelineModel_3bf58d3d6ce4"
      ]
     },
     "execution_count": 250,
     "metadata": {},
     "output_type": "execute_result"
    }
   ],
   "source": [
    "model = data_prep_pipeline.fit(training)\n",
    "model"
   ]
  },
  {
   "cell_type": "code",
   "execution_count": 251,
   "metadata": {},
   "outputs": [
    {
     "name": "stdout",
     "output_type": "stream",
     "text": [
      "+--------------------+---------+------+\n",
      "|       OriginalTweet|Sentiment|length|\n",
      "+--------------------+---------+------+\n",
      "|  We ve got sever...| Negative|   235|\n",
      "| Amazon Needs to ...| Negative|   203|\n",
      "+--------------------+---------+------+\n",
      "\n"
     ]
    }
   ],
   "source": [
    "dx = spark.createDataFrame(testing.take(2))\n",
    "dx.show()"
   ]
  },
  {
   "cell_type": "code",
   "execution_count": 252,
   "metadata": {
    "id": "SkIpNjoXRcM_"
   },
   "outputs": [
    {
     "name": "stdout",
     "output_type": "stream",
     "text": [
      "+--------------------+---------+------+-----+--------------------+--------------------+--------------------+--------------------+--------------------+------------------+--------------------+----------+\n",
      "|       OriginalTweet|Sentiment|length|label|          token_text|         stop_tokens|               c_vec|              tf_idf|            features|     rawPrediction|         probability|prediction|\n",
      "+--------------------+---------+------+-----+--------------------+--------------------+--------------------+--------------------+--------------------+------------------+--------------------+----------+\n",
      "|  We ve got sever...| Negative|   235|  0.0|[, , we, ve, got,...|[, , ve, got, sev...|(16792,[0,3,25,55...|(16792,[0,3,25,55...|(16793,[0,3,25,55...|[382.0,249.0,88.0]|[0.53129346314325...|       0.0|\n",
      "| Amazon Needs to ...| Negative|   203|  0.0|[, amazon, needs,...|[, amazon, needs,...|(16792,[0,7,9,10,...|(16792,[0,7,9,10,...|(16793,[0,7,9,10,...|[168.0,149.0,58.0]|[0.448,0.39733333...|       0.0|\n",
      "|!!!!!!! French Pr...| Negative|   133|  0.0|[!!!!!!!, french,...|[!!!!!!!, french,...|(16792,[103,618,6...|(16792,[103,618,6...|(16793,[103,618,6...| [66.0,52.0,143.0]|[0.25287356321839...|       2.0|\n",
      "|\"#Airbnb some hos...| Negative|   287|  0.0|[\"#airbnb, some, ...|[\"#airbnb, hosts,...|(16792,[0,1,8,60,...|(16792,[0,1,8,60,...|(16793,[0,1,8,60,...|[382.0,249.0,88.0]|[0.53129346314325...|       0.0|\n",
      "|\"2 Weeks #Lockdow...|  Neutral|   307|  2.0|[\"2, weeks, #lock...|[\"2, weeks, #lock...|(16792,[2,8,18,21...|(16792,[2,8,18,21...|(16793,[2,8,18,21...|[382.0,249.0,88.0]|[0.53129346314325...|       0.0|\n",
      "|\"@yogagirlmab Ano...| Negative|   261|  0.0|[\"@yogagirlmab, a...|[\"@yogagirlmab, a...|(16792,[3,18,38,8...|(16792,[3,18,38,8...|(16793,[3,18,38,8...|[382.0,249.0,88.0]|[0.53129346314325...|       0.0|\n",
      "|\"A \"\"consumer rem...| Positive|   259|  1.0|[\"a, \"\"consumer, ...|[\"a, \"\"consumer, ...|(16792,[1,16,24,3...|(16792,[1,16,24,3...|(16793,[1,16,24,3...|     [0.0,1.0,0.0]|       [0.0,1.0,0.0]|       1.0|\n",
      "|\"A friendly remin...| Positive|   271|  1.0|[\"a, friendly, re...|[\"a, friendly, re...|(16792,[0,3,6,13,...|(16792,[0,3,6,13,...|(16793,[0,3,6,13,...|    [0.0,12.0,0.0]|       [0.0,1.0,0.0]|       1.0|\n",
      "|\"For those of you...| Positive|   279|  1.0|[\"for, those, of,...|[\"for, think, cre...|(16792,[0,4,5,7,5...|(16792,[0,4,5,7,5...|(16793,[0,4,5,7,5...|[382.0,249.0,88.0]|[0.53129346314325...|       0.0|\n",
      "|\"Our latest repor...| Negative|   178|  0.0|[\"our, latest, re...|[\"our, latest, re...|(16792,[9,10,36,3...|(16792,[9,10,36,3...|(16793,[9,10,36,3...|[168.0,149.0,58.0]|[0.448,0.39733333...|       0.0|\n",
      "|#Americans stock ...|  Neutral|    94|  2.0|[#americans, stoc...|[#americans, stoc...|(16792,[6,297,388...|(16792,[6,297,388...|(16793,[6,297,388...| [66.0,52.0,143.0]|[0.25287356321839...|       2.0|\n",
      "|#BBCqt @MattHanco...|  Neutral|    70|  2.0|[#bbcqt, @matthan...|[#bbcqt, @matthan...|(16792,[1,11,3640...|(16792,[1,11,3640...|(16793,[1,11,3640...|     [0.0,0.0,7.0]|       [0.0,0.0,1.0]|       2.0|\n",
      "|#COVID 19 VIRUS. ...| Negative|   280|  0.0|[#covid, 19, viru...|[#covid, 19, viru...|(16792,[0,6,39,45...|(16792,[0,6,39,45...|(16793,[0,6,39,45...|[382.0,249.0,88.0]|[0.53129346314325...|       0.0|\n",
      "|#COVID19 is creat...| Negative|   307|  0.0|[#covid19, is, cr...|[#covid19, creati...|(16792,[3,8,9,12,...|(16792,[3,8,9,12,...|(16793,[3,8,9,12,...|   [192.0,3.0,0.0]|[0.98461538461538...|       0.0|\n",
      "|#COVID19 pandemic...|  Neutral|   186|  2.0|[#covid19, pandem...|[#covid19, pandem...|(16792,[0,2,21,28...|(16792,[0,2,21,28...|(16793,[0,2,21,28...|    [0.0,0.0,18.0]|       [0.0,0.0,1.0]|       2.0|\n",
      "|#COVID_19 fallout...| Negative|   206|  0.0|[#covid_19, fallo...|[#covid_19, fallo...|(16792,[1,9,10,20...|(16792,[1,9,10,20...|(16793,[1,9,10,20...|[168.0,149.0,58.0]|[0.448,0.39733333...|       0.0|\n",
      "|#Colombo looks li...| Positive|   241|  1.0|[#colombo, looks,...|[#colombo, looks,...|(16792,[0,1,11,12...|(16792,[0,1,11,12...|(16793,[0,1,11,12...|    [11.0,0.0,0.0]|       [1.0,0.0,0.0]|       0.0|\n",
      "|#Coronavirus #ori...| Positive|   262|  1.0|[#coronavirus, #o...|[#coronavirus, #o...|(16792,[0,2,9,10,...|(16792,[0,2,9,10,...|(16793,[0,2,9,10,...|    [0.0,25.0,0.0]|       [0.0,1.0,0.0]|       1.0|\n",
      "|#Coronavirus got ...| Negative|   277|  0.0|[#coronavirus, go...|[#coronavirus, go...|(16792,[0,2,4,14,...|(16792,[0,2,4,14,...|(16793,[0,2,4,14,...|[382.0,249.0,88.0]|[0.53129346314325...|       0.0|\n",
      "|#Coronavirus shif...|  Neutral|   106|  2.0|[#coronavirus, sh...|[#coronavirus, sh...|(16792,[0,2,9,10,...|(16792,[0,2,9,10,...|(16793,[0,2,9,10,...|     [1.0,0.0,0.0]|       [1.0,0.0,0.0]|       0.0|\n",
      "+--------------------+---------+------+-----+--------------------+--------------------+--------------------+--------------------+--------------------+------------------+--------------------+----------+\n",
      "only showing top 20 rows\n",
      "\n"
     ]
    }
   ],
   "source": [
    "test_results=model.transform(testing)\n",
    "test_results.show()"
   ]
  },
  {
   "cell_type": "code",
   "execution_count": 253,
   "metadata": {
    "id": "3HbXfEfbRcNA"
   },
   "outputs": [],
   "source": [
    "acc_eval=MulticlassClassificationEvaluator()\n",
    "acc=acc_eval.evaluate(test_results)"
   ]
  },
  {
   "cell_type": "code",
   "execution_count": 254,
   "metadata": {
    "id": "HiO7sTGORcNA",
    "outputId": "9bebcc4c-97ea-4b1d-8d72-f62a9e732602"
   },
   "outputs": [
    {
     "name": "stdout",
     "output_type": "stream",
     "text": [
      "Accuracy of the model is:: 0.5810550423271459\n"
     ]
    }
   ],
   "source": [
    "print (\"Accuracy of the model is::\", acc)"
   ]
  },
  {
   "cell_type": "markdown",
   "metadata": {},
   "source": [
    "### Random Forest"
   ]
  },
  {
   "cell_type": "code",
   "execution_count": 255,
   "metadata": {
    "id": "Kx0_tdvXRcM-"
   },
   "outputs": [],
   "source": [
    "data_prep_pipeline= Pipeline(stages=[ham_samp_to_num, tokenizer, stopremove,count_vec, idf,clean_up, rf])"
   ]
  },
  {
   "cell_type": "code",
   "execution_count": 256,
   "metadata": {},
   "outputs": [
    {
     "data": {
      "text/plain": [
       "PipelineModel_4ef0d407e841"
      ]
     },
     "execution_count": 256,
     "metadata": {},
     "output_type": "execute_result"
    }
   ],
   "source": [
    "model = data_prep_pipeline.fit(training)\n",
    "model"
   ]
  },
  {
   "cell_type": "code",
   "execution_count": 257,
   "metadata": {},
   "outputs": [
    {
     "name": "stdout",
     "output_type": "stream",
     "text": [
      "+--------------------+---------+------+\n",
      "|       OriginalTweet|Sentiment|length|\n",
      "+--------------------+---------+------+\n",
      "|  We ve got sever...| Negative|   235|\n",
      "| Amazon Needs to ...| Negative|   203|\n",
      "+--------------------+---------+------+\n",
      "\n"
     ]
    }
   ],
   "source": [
    "dx = spark.createDataFrame(testing.take(2))\n",
    "dx.show()"
   ]
  },
  {
   "cell_type": "code",
   "execution_count": 258,
   "metadata": {
    "id": "SkIpNjoXRcM_"
   },
   "outputs": [],
   "source": [
    "test_results=model.transform(testing)"
   ]
  },
  {
   "cell_type": "code",
   "execution_count": 259,
   "metadata": {
    "id": "3w5Btr6dKrdp"
   },
   "outputs": [
    {
     "name": "stdout",
     "output_type": "stream",
     "text": [
      "+--------------------+---------+------+-----+--------------------+--------------------+--------------------+--------------------+--------------------+--------------------+--------------------+----------+\n",
      "|       OriginalTweet|Sentiment|length|label|          token_text|         stop_tokens|               c_vec|              tf_idf|            features|       rawPrediction|         probability|prediction|\n",
      "+--------------------+---------+------+-----+--------------------+--------------------+--------------------+--------------------+--------------------+--------------------+--------------------+----------+\n",
      "|  We ve got sever...| Negative|   235|  0.0|[, , we, ve, got,...|[, , ve, got, sev...|(16792,[0,3,25,55...|(16792,[0,3,25,55...|(16793,[0,3,25,55...|[89.1184397689732...|[0.44559219884486...|       0.0|\n",
      "| Amazon Needs to ...| Negative|   203|  0.0|[, amazon, needs,...|[, amazon, needs,...|(16792,[0,7,9,10,...|(16792,[0,7,9,10,...|(16793,[0,7,9,10,...|[84.1899843213239...|[0.42094992160661...|       0.0|\n",
      "|!!!!!!! French Pr...| Negative|   133|  0.0|[!!!!!!!, french,...|[!!!!!!!, french,...|(16792,[103,618,6...|(16792,[103,618,6...|(16793,[103,618,6...|[85.3378589418760...|[0.42668929470938...|       0.0|\n",
      "|\"#Airbnb some hos...| Negative|   287|  0.0|[\"#airbnb, some, ...|[\"#airbnb, hosts,...|(16792,[0,1,8,60,...|(16792,[0,1,8,60,...|(16793,[0,1,8,60,...|[85.5730212092944...|[0.42786510604647...|       0.0|\n",
      "|\"2 Weeks #Lockdow...|  Neutral|   307|  2.0|[\"2, weeks, #lock...|[\"2, weeks, #lock...|(16792,[2,8,18,21...|(16792,[2,8,18,21...|(16793,[2,8,18,21...|[84.9598238380658...|[0.42479911919032...|       0.0|\n",
      "|\"@yogagirlmab Ano...| Negative|   261|  0.0|[\"@yogagirlmab, a...|[\"@yogagirlmab, a...|(16792,[3,18,38,8...|(16792,[3,18,38,8...|(16793,[3,18,38,8...|[84.8803861807864...|[0.42440193090393...|       0.0|\n",
      "|\"A \"\"consumer rem...| Positive|   259|  1.0|[\"a, \"\"consumer, ...|[\"a, \"\"consumer, ...|(16792,[1,16,24,3...|(16792,[1,16,24,3...|(16793,[1,16,24,3...|[83.5286684718295...|[0.41764334235914...|       1.0|\n",
      "|\"A friendly remin...| Positive|   271|  1.0|[\"a, friendly, re...|[\"a, friendly, re...|(16792,[0,3,6,13,...|(16792,[0,3,6,13,...|(16793,[0,3,6,13,...|[78.4386998903169...|[0.39219349945158...|       1.0|\n",
      "|\"For those of you...| Positive|   279|  1.0|[\"for, those, of,...|[\"for, think, cre...|(16792,[0,4,5,7,5...|(16792,[0,4,5,7,5...|(16793,[0,4,5,7,5...|[84.2763606959048...|[0.42138180347952...|       1.0|\n",
      "|\"Our latest repor...| Negative|   178|  0.0|[\"our, latest, re...|[\"our, latest, re...|(16792,[9,10,36,3...|(16792,[9,10,36,3...|(16793,[9,10,36,3...|[85.1452350393056...|[0.42572617519652...|       0.0|\n",
      "|#Americans stock ...|  Neutral|    94|  2.0|[#americans, stoc...|[#americans, stoc...|(16792,[6,297,388...|(16792,[6,297,388...|(16793,[6,297,388...|[84.1884551572655...|[0.42094227578632...|       0.0|\n",
      "|#BBCqt @MattHanco...|  Neutral|    70|  2.0|[#bbcqt, @matthan...|[#bbcqt, @matthan...|(16792,[1,11,3640...|(16792,[1,11,3640...|(16793,[1,11,3640...|[84.4603293503601...|[0.42230164675180...|       0.0|\n",
      "|#COVID 19 VIRUS. ...| Negative|   280|  0.0|[#covid, 19, viru...|[#covid, 19, viru...|(16792,[0,6,39,45...|(16792,[0,6,39,45...|(16793,[0,6,39,45...|[85.7357431059350...|[0.42867871552967...|       0.0|\n",
      "|#COVID19 is creat...| Negative|   307|  0.0|[#covid19, is, cr...|[#covid19, creati...|(16792,[3,8,9,12,...|(16792,[3,8,9,12,...|(16793,[3,8,9,12,...|[91.9309816057591...|[0.45965490802879...|       0.0|\n",
      "|#COVID19 pandemic...|  Neutral|   186|  2.0|[#covid19, pandem...|[#covid19, pandem...|(16792,[0,2,21,28...|(16792,[0,2,21,28...|(16793,[0,2,21,28...|[82.9847313545752...|[0.41492365677287...|       0.0|\n",
      "|#COVID_19 fallout...| Negative|   206|  0.0|[#covid_19, fallo...|[#covid_19, fallo...|(16792,[1,9,10,20...|(16792,[1,9,10,20...|(16793,[1,9,10,20...|[84.9469153477371...|[0.42473457673868...|       0.0|\n",
      "|#Colombo looks li...| Positive|   241|  1.0|[#colombo, looks,...|[#colombo, looks,...|(16792,[0,1,11,12...|(16792,[0,1,11,12...|(16793,[0,1,11,12...|[91.2732270413393...|[0.45636613520669...|       0.0|\n",
      "|#Coronavirus #ori...| Positive|   262|  1.0|[#coronavirus, #o...|[#coronavirus, #o...|(16792,[0,2,9,10,...|(16792,[0,2,9,10,...|(16793,[0,2,9,10,...|[83.8486406012421...|[0.41924320300621...|       1.0|\n",
      "|#Coronavirus got ...| Negative|   277|  0.0|[#coronavirus, go...|[#coronavirus, go...|(16792,[0,2,4,14,...|(16792,[0,2,4,14,...|(16793,[0,2,4,14,...|[85.8445027739365...|[0.42922251386968...|       0.0|\n",
      "|#Coronavirus shif...|  Neutral|   106|  2.0|[#coronavirus, sh...|[#coronavirus, sh...|(16792,[0,2,9,10,...|(16792,[0,2,9,10,...|(16793,[0,2,9,10,...|[84.2176841249953...|[0.42108842062497...|       0.0|\n",
      "+--------------------+---------+------+-----+--------------------+--------------------+--------------------+--------------------+--------------------+--------------------+--------------------+----------+\n",
      "only showing top 20 rows\n",
      "\n"
     ]
    }
   ],
   "source": [
    "test_results.show()"
   ]
  },
  {
   "cell_type": "code",
   "execution_count": 260,
   "metadata": {
    "id": "3HbXfEfbRcNA"
   },
   "outputs": [],
   "source": [
    "acc_eval=MulticlassClassificationEvaluator()\n",
    "acc=acc_eval.evaluate(test_results)"
   ]
  },
  {
   "cell_type": "code",
   "execution_count": 261,
   "metadata": {
    "id": "HiO7sTGORcNA",
    "outputId": "9bebcc4c-97ea-4b1d-8d72-f62a9e732602"
   },
   "outputs": [
    {
     "name": "stdout",
     "output_type": "stream",
     "text": [
      "Accuracy of the model is:: 0.4920932857411593\n"
     ]
    }
   ],
   "source": [
    "print (\"Accuracy of the model is::\", acc)"
   ]
  },
  {
   "cell_type": "code",
   "execution_count": null,
   "metadata": {},
   "outputs": [],
   "source": []
  }
 ],
 "metadata": {
  "colab": {
   "name": "Corona_NLP_Final.ipynb",
   "provenance": []
  },
  "kernelspec": {
   "display_name": "Python 3",
   "language": "python",
   "name": "python3"
  },
  "language_info": {
   "codemirror_mode": {
    "name": "ipython",
    "version": 3
   },
   "file_extension": ".py",
   "mimetype": "text/x-python",
   "name": "python",
   "nbconvert_exporter": "python",
   "pygments_lexer": "ipython3",
   "version": "3.7.3"
  }
 },
 "nbformat": 4,
 "nbformat_minor": 1
}
